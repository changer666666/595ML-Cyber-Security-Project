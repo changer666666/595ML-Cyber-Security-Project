{
 "cells": [
  {
   "cell_type": "code",
   "execution_count": 2,
   "id": "quantitative-cathedral",
   "metadata": {},
   "outputs": [
    {
     "name": "stdout",
     "output_type": "stream",
     "text": [
      "E:\\EEP595EnronEmailProject\\emails\\emails.csv\n"
     ]
    }
   ],
   "source": [
    "# This Python 3 environment comes with many helpful analytics libraries installed\n",
    "# It is defined by the kaggle/python Docker image: https://github.com/kaggle/docker-python\n",
    "# For example, here's several helpful packages to load\n",
    "\n",
    "import numpy as np # linear algebra\n",
    "import pandas as pd # data processing, CSV file I/O (e.g. pd.read_csv)\n",
    "\n",
    "# Input data files are available in the read-only \"../input/\" directory\n",
    "# For example, running this (by clicking run or pressing Shift+Enter) will list all files under the input directory\n",
    "\n",
    "import os\n",
    "for dirname, _, filenames in os.walk('E:\\EEP595EnronEmailProject\\emails'):\n",
    "    for filename in filenames:\n",
    "        print(os.path.join(dirname, filename))\n",
    "\n",
    "# You can write up to 20GB to the current directory (/kaggle/working/) that gets preserved as output when you create a version using \"Save & Run All\" \n",
    "# You can also write temporary files to /kaggle/temp/, but they won't be saved outside of the current session"
   ]
  },
  {
   "cell_type": "code",
   "execution_count": 4,
   "id": "loaded-oregon",
   "metadata": {},
   "outputs": [
    {
     "name": "stdout",
     "output_type": "stream",
     "text": [
      "Python 3.7.3\n"
     ]
    }
   ],
   "source": [
    "# !python --version\n"
   ]
  },
  {
   "cell_type": "code",
   "execution_count": 5,
   "id": "neural-blackberry",
   "metadata": {},
   "outputs": [
    {
     "name": "stdout",
     "output_type": "stream",
     "text": [
      "Collecting seaborn\n",
      "  Downloading seaborn-0.11.1-py3-none-any.whl (285 kB)\n",
      "Requirement already satisfied: pandas>=0.23 in f:\\miniconda3\\lib\\site-packages (from seaborn) (0.25.1)\n",
      "Requirement already satisfied: numpy>=1.15 in f:\\miniconda3\\lib\\site-packages (from seaborn) (1.19.5)\n",
      "Requirement already satisfied: scipy>=1.0 in f:\\miniconda3\\lib\\site-packages (from seaborn) (1.3.1)\n",
      "Requirement already satisfied: matplotlib>=2.2 in f:\\miniconda3\\lib\\site-packages (from seaborn) (3.1.1)\n",
      "Requirement already satisfied: cycler>=0.10 in f:\\miniconda3\\lib\\site-packages (from matplotlib>=2.2->seaborn) (0.10.0)\n",
      "Requirement already satisfied: kiwisolver>=1.0.1 in f:\\miniconda3\\lib\\site-packages (from matplotlib>=2.2->seaborn) (1.3.1)\n",
      "Requirement already satisfied: pyparsing!=2.0.4,!=2.1.2,!=2.1.6,>=2.0.1 in f:\\miniconda3\\lib\\site-packages (from matplotlib>=2.2->seaborn) (2.4.7)\n",
      "Requirement already satisfied: python-dateutil>=2.1 in f:\\miniconda3\\lib\\site-packages (from matplotlib>=2.2->seaborn) (2.8.1)\n",
      "Requirement already satisfied: six in f:\\miniconda3\\lib\\site-packages (from cycler>=0.10->matplotlib>=2.2->seaborn) (1.15.0)\n",
      "Requirement already satisfied: pytz>=2017.2 in f:\\miniconda3\\lib\\site-packages (from pandas>=0.23->seaborn) (2021.1)\n",
      "Installing collected packages: seaborn\n",
      "Successfully installed seaborn-0.11.1\n"
     ]
    }
   ],
   "source": [
    "# !python -m pip install seaborn"
   ]
  },
  {
   "cell_type": "code",
   "execution_count": 6,
   "id": "experimental-barrier",
   "metadata": {},
   "outputs": [],
   "source": [
    "import multiprocessing\n",
    "import seaborn as sns\n",
    "import email\n",
    "import matplotlib.pyplot as plt"
   ]
  },
  {
   "cell_type": "code",
   "execution_count": 7,
   "id": "elementary-belgium",
   "metadata": {},
   "outputs": [],
   "source": [
    "df = pd.read_csv(\"E:\\EEP595EnronEmailProject\\emails\\emails.csv\")"
   ]
  },
  {
   "cell_type": "code",
   "execution_count": 8,
   "id": "reserved-municipality",
   "metadata": {},
   "outputs": [
    {
     "data": {
      "text/html": [
       "<div>\n",
       "<style scoped>\n",
       "    .dataframe tbody tr th:only-of-type {\n",
       "        vertical-align: middle;\n",
       "    }\n",
       "\n",
       "    .dataframe tbody tr th {\n",
       "        vertical-align: top;\n",
       "    }\n",
       "\n",
       "    .dataframe thead th {\n",
       "        text-align: right;\n",
       "    }\n",
       "</style>\n",
       "<table border=\"1\" class=\"dataframe\">\n",
       "  <thead>\n",
       "    <tr style=\"text-align: right;\">\n",
       "      <th></th>\n",
       "      <th>file</th>\n",
       "      <th>message</th>\n",
       "    </tr>\n",
       "  </thead>\n",
       "  <tbody>\n",
       "    <tr>\n",
       "      <td>0</td>\n",
       "      <td>allen-p/_sent_mail/1.</td>\n",
       "      <td>Message-ID: &lt;18782981.1075855378110.JavaMail.e...</td>\n",
       "    </tr>\n",
       "    <tr>\n",
       "      <td>1</td>\n",
       "      <td>allen-p/_sent_mail/10.</td>\n",
       "      <td>Message-ID: &lt;15464986.1075855378456.JavaMail.e...</td>\n",
       "    </tr>\n",
       "    <tr>\n",
       "      <td>2</td>\n",
       "      <td>allen-p/_sent_mail/100.</td>\n",
       "      <td>Message-ID: &lt;24216240.1075855687451.JavaMail.e...</td>\n",
       "    </tr>\n",
       "    <tr>\n",
       "      <td>3</td>\n",
       "      <td>allen-p/_sent_mail/1000.</td>\n",
       "      <td>Message-ID: &lt;13505866.1075863688222.JavaMail.e...</td>\n",
       "    </tr>\n",
       "    <tr>\n",
       "      <td>4</td>\n",
       "      <td>allen-p/_sent_mail/1001.</td>\n",
       "      <td>Message-ID: &lt;30922949.1075863688243.JavaMail.e...</td>\n",
       "    </tr>\n",
       "  </tbody>\n",
       "</table>\n",
       "</div>"
      ],
      "text/plain": [
       "                       file                                            message\n",
       "0     allen-p/_sent_mail/1.  Message-ID: <18782981.1075855378110.JavaMail.e...\n",
       "1    allen-p/_sent_mail/10.  Message-ID: <15464986.1075855378456.JavaMail.e...\n",
       "2   allen-p/_sent_mail/100.  Message-ID: <24216240.1075855687451.JavaMail.e...\n",
       "3  allen-p/_sent_mail/1000.  Message-ID: <13505866.1075863688222.JavaMail.e...\n",
       "4  allen-p/_sent_mail/1001.  Message-ID: <30922949.1075863688243.JavaMail.e..."
      ]
     },
     "execution_count": 8,
     "metadata": {},
     "output_type": "execute_result"
    }
   ],
   "source": [
    "# view first 5 rows of the dataset\n",
    "df.head()"
   ]
  },
  {
   "cell_type": "code",
   "execution_count": 9,
   "id": "broadband-inside",
   "metadata": {},
   "outputs": [
    {
     "data": {
      "text/plain": [
       "(517401, 2)"
      ]
     },
     "execution_count": 9,
     "metadata": {},
     "output_type": "execute_result"
    }
   ],
   "source": [
    "# get shape of the data\n",
    "df.shape"
   ]
  },
  {
   "cell_type": "code",
   "execution_count": 10,
   "id": "innocent-hanging",
   "metadata": {},
   "outputs": [
    {
     "name": "stdout",
     "output_type": "stream",
     "text": [
      "Message-ID: <15464986.1075855378456.JavaMail.evans@thyme>\n",
      "Date: Fri, 4 May 2001 13:51:00 -0700 (PDT)\n",
      "From: phillip.allen@enron.com\n",
      "To: john.lavorato@enron.com\n",
      "Subject: Re:\n",
      "Mime-Version: 1.0\n",
      "Content-Type: text/plain; charset=us-ascii\n",
      "Content-Transfer-Encoding: 7bit\n",
      "X-From: Phillip K Allen\n",
      "X-To: John J Lavorato <John J Lavorato/ENRON@enronXgate@ENRON>\n",
      "X-cc: \n",
      "X-bcc: \n",
      "X-Folder: \\Phillip_Allen_Jan2002_1\\Allen, Phillip K.\\'Sent Mail\n",
      "X-Origin: Allen-P\n",
      "X-FileName: pallen (Non-Privileged).pst\n",
      "\n",
      "Traveling to have a business meeting takes the fun out of the trip.  Especially if you have to prepare a presentation.  I would suggest holding the business plan meetings here then take a trip without any formal business meetings.  I would even try and get some honest opinions on whether a trip is even desired or necessary.\n",
      "\n",
      "As far as the business meetings, I think it would be more productive to try and stimulate discussions across the different groups about what is working and what is not.  Too often the presenter speaks and the others are quiet just waiting for their turn.   The meetings might be better if held in a round table discussion format.  \n",
      "\n",
      "My suggestion for where to go is Austin.  Play golf and rent a ski boat and jet ski's.  Flying somewhere takes too much time.\n",
      "\n"
     ]
    }
   ],
   "source": [
    "# a sample email\n",
    "print(df.loc[1]['message'])"
   ]
  },
  {
   "cell_type": "code",
   "execution_count": 11,
   "id": "reliable-myanmar",
   "metadata": {},
   "outputs": [
    {
     "data": {
      "text/plain": [
       "[('Message-ID', '<15464986.1075855378456.JavaMail.evans@thyme>'),\n",
       " ('Date', 'Fri, 4 May 2001 13:51:00 -0700 (PDT)'),\n",
       " ('From', 'phillip.allen@enron.com'),\n",
       " ('To', 'john.lavorato@enron.com'),\n",
       " ('Subject', 'Re:'),\n",
       " ('Mime-Version', '1.0'),\n",
       " ('Content-Type', 'text/plain; charset=us-ascii'),\n",
       " ('Content-Transfer-Encoding', '7bit'),\n",
       " ('X-From', 'Phillip K Allen'),\n",
       " ('X-To', 'John J Lavorato <John J Lavorato/ENRON@enronXgate@ENRON>'),\n",
       " ('X-cc', ''),\n",
       " ('X-bcc', ''),\n",
       " ('X-Folder', \"\\\\Phillip_Allen_Jan2002_1\\\\Allen, Phillip K.\\\\'Sent Mail\"),\n",
       " ('X-Origin', 'Allen-P'),\n",
       " ('X-FileName', 'pallen (Non-Privileged).pst')]"
      ]
     },
     "execution_count": 11,
     "metadata": {},
     "output_type": "execute_result"
    }
   ],
   "source": [
    "# transform the email into correct format\n",
    "message = df.loc[1]['message']\n",
    "e = email.message_from_string(message)\n",
    "\n",
    "e.items()"
   ]
  },
  {
   "cell_type": "code",
   "execution_count": 12,
   "id": "concerned-letter",
   "metadata": {},
   "outputs": [
    {
     "data": {
      "text/plain": [
       "'Fri, 4 May 2001 13:51:00 -0700 (PDT)'"
      ]
     },
     "execution_count": 12,
     "metadata": {},
     "output_type": "execute_result"
    }
   ],
   "source": [
    "# get date\n",
    "e.get('Date')"
   ]
  },
  {
   "cell_type": "code",
   "execution_count": 13,
   "id": "respective-indie",
   "metadata": {},
   "outputs": [
    {
     "data": {
      "text/plain": [
       "\"Traveling to have a business meeting takes the fun out of the trip.  Especially if you have to prepare a presentation.  I would suggest holding the business plan meetings here then take a trip without any formal business meetings.  I would even try and get some honest opinions on whether a trip is even desired or necessary.\\n\\nAs far as the business meetings, I think it would be more productive to try and stimulate discussions across the different groups about what is working and what is not.  Too often the presenter speaks and the others are quiet just waiting for their turn.   The meetings might be better if held in a round table discussion format.  \\n\\nMy suggestion for where to go is Austin.  Play golf and rent a ski boat and jet ski's.  Flying somewhere takes too much time.\\n\""
      ]
     },
     "execution_count": 13,
     "metadata": {},
     "output_type": "execute_result"
    }
   ],
   "source": [
    "# show message body\n",
    "e.get_payload()"
   ]
  },
  {
   "cell_type": "code",
   "execution_count": 14,
   "id": "timely-turning",
   "metadata": {},
   "outputs": [],
   "source": [
    "# now we add those fields into our 'df' dataframe\n",
    "def get_field(field, messages):\n",
    "    column = []\n",
    "    for message in messages:\n",
    "        e = email.message_from_string(message)\n",
    "        column.append(e.get(field))\n",
    "    return column"
   ]
  },
  {
   "cell_type": "code",
   "execution_count": 15,
   "id": "headed-philadelphia",
   "metadata": {},
   "outputs": [
    {
     "data": {
      "text/html": [
       "<div>\n",
       "<style scoped>\n",
       "    .dataframe tbody tr th:only-of-type {\n",
       "        vertical-align: middle;\n",
       "    }\n",
       "\n",
       "    .dataframe tbody tr th {\n",
       "        vertical-align: top;\n",
       "    }\n",
       "\n",
       "    .dataframe thead th {\n",
       "        text-align: right;\n",
       "    }\n",
       "</style>\n",
       "<table border=\"1\" class=\"dataframe\">\n",
       "  <thead>\n",
       "    <tr style=\"text-align: right;\">\n",
       "      <th></th>\n",
       "      <th>file</th>\n",
       "      <th>message</th>\n",
       "      <th>date</th>\n",
       "      <th>subject</th>\n",
       "      <th>X-Folder</th>\n",
       "      <th>X-From</th>\n",
       "      <th>X-To</th>\n",
       "    </tr>\n",
       "  </thead>\n",
       "  <tbody>\n",
       "    <tr>\n",
       "      <td>0</td>\n",
       "      <td>allen-p/_sent_mail/1.</td>\n",
       "      <td>Message-ID: &lt;18782981.1075855378110.JavaMail.e...</td>\n",
       "      <td>Mon, 14 May 2001 16:39:00 -0700 (PDT)</td>\n",
       "      <td></td>\n",
       "      <td>\\Phillip_Allen_Jan2002_1\\Allen, Phillip K.\\'Se...</td>\n",
       "      <td>Phillip K Allen</td>\n",
       "      <td>Tim Belden &lt;Tim Belden/Enron@EnronXGate&gt;</td>\n",
       "    </tr>\n",
       "    <tr>\n",
       "      <td>1</td>\n",
       "      <td>allen-p/_sent_mail/10.</td>\n",
       "      <td>Message-ID: &lt;15464986.1075855378456.JavaMail.e...</td>\n",
       "      <td>Fri, 4 May 2001 13:51:00 -0700 (PDT)</td>\n",
       "      <td>Re:</td>\n",
       "      <td>\\Phillip_Allen_Jan2002_1\\Allen, Phillip K.\\'Se...</td>\n",
       "      <td>Phillip K Allen</td>\n",
       "      <td>John J Lavorato &lt;John J Lavorato/ENRON@enronXg...</td>\n",
       "    </tr>\n",
       "    <tr>\n",
       "      <td>2</td>\n",
       "      <td>allen-p/_sent_mail/100.</td>\n",
       "      <td>Message-ID: &lt;24216240.1075855687451.JavaMail.e...</td>\n",
       "      <td>Wed, 18 Oct 2000 03:00:00 -0700 (PDT)</td>\n",
       "      <td>Re: test</td>\n",
       "      <td>\\Phillip_Allen_Dec2000\\Notes Folders\\'sent mail</td>\n",
       "      <td>Phillip K Allen</td>\n",
       "      <td>Leah Van Arsdall</td>\n",
       "    </tr>\n",
       "  </tbody>\n",
       "</table>\n",
       "</div>"
      ],
      "text/plain": [
       "                      file                                            message  \\\n",
       "0    allen-p/_sent_mail/1.  Message-ID: <18782981.1075855378110.JavaMail.e...   \n",
       "1   allen-p/_sent_mail/10.  Message-ID: <15464986.1075855378456.JavaMail.e...   \n",
       "2  allen-p/_sent_mail/100.  Message-ID: <24216240.1075855687451.JavaMail.e...   \n",
       "\n",
       "                                    date   subject  \\\n",
       "0  Mon, 14 May 2001 16:39:00 -0700 (PDT)             \n",
       "1   Fri, 4 May 2001 13:51:00 -0700 (PDT)       Re:   \n",
       "2  Wed, 18 Oct 2000 03:00:00 -0700 (PDT)  Re: test   \n",
       "\n",
       "                                            X-Folder           X-From  \\\n",
       "0  \\Phillip_Allen_Jan2002_1\\Allen, Phillip K.\\'Se...  Phillip K Allen   \n",
       "1  \\Phillip_Allen_Jan2002_1\\Allen, Phillip K.\\'Se...  Phillip K Allen   \n",
       "2    \\Phillip_Allen_Dec2000\\Notes Folders\\'sent mail  Phillip K Allen   \n",
       "\n",
       "                                                X-To  \n",
       "0           Tim Belden <Tim Belden/Enron@EnronXGate>  \n",
       "1  John J Lavorato <John J Lavorato/ENRON@enronXg...  \n",
       "2                                   Leah Van Arsdall  "
      ]
     },
     "execution_count": 15,
     "metadata": {},
     "output_type": "execute_result"
    }
   ],
   "source": [
    "df['date'] = get_field(\"Date\", df['message'])\n",
    "df['subject'] = get_field(\"Subject\", df['message'])\n",
    "df['X-Folder'] = get_field(\"X-Folder\", df['message'])\n",
    "df['X-From'] = get_field(\"X-From\", df['message'])\n",
    "df['X-To'] = get_field(\"X-To\", df['message'])\n",
    "df.head(3)"
   ]
  },
  {
   "cell_type": "code",
   "execution_count": 16,
   "id": "funky-burning",
   "metadata": {},
   "outputs": [
    {
     "data": {
      "text/html": [
       "<div>\n",
       "<style scoped>\n",
       "    .dataframe tbody tr th:only-of-type {\n",
       "        vertical-align: middle;\n",
       "    }\n",
       "\n",
       "    .dataframe tbody tr th {\n",
       "        vertical-align: top;\n",
       "    }\n",
       "\n",
       "    .dataframe thead th {\n",
       "        text-align: right;\n",
       "    }\n",
       "</style>\n",
       "<table border=\"1\" class=\"dataframe\">\n",
       "  <thead>\n",
       "    <tr style=\"text-align: right;\">\n",
       "      <th></th>\n",
       "      <th>file</th>\n",
       "      <th>message</th>\n",
       "      <th>date</th>\n",
       "      <th>subject</th>\n",
       "      <th>X-Folder</th>\n",
       "      <th>X-From</th>\n",
       "      <th>X-To</th>\n",
       "      <th>body</th>\n",
       "    </tr>\n",
       "  </thead>\n",
       "  <tbody>\n",
       "    <tr>\n",
       "      <td>0</td>\n",
       "      <td>allen-p/_sent_mail/1.</td>\n",
       "      <td>Message-ID: &lt;18782981.1075855378110.JavaMail.e...</td>\n",
       "      <td>Mon, 14 May 2001 16:39:00 -0700 (PDT)</td>\n",
       "      <td></td>\n",
       "      <td>\\Phillip_Allen_Jan2002_1\\Allen, Phillip K.\\'Se...</td>\n",
       "      <td>Phillip K Allen</td>\n",
       "      <td>Tim Belden &lt;Tim Belden/Enron@EnronXGate&gt;</td>\n",
       "      <td>Here is our forecast\\n\\n</td>\n",
       "    </tr>\n",
       "    <tr>\n",
       "      <td>1</td>\n",
       "      <td>allen-p/_sent_mail/10.</td>\n",
       "      <td>Message-ID: &lt;15464986.1075855378456.JavaMail.e...</td>\n",
       "      <td>Fri, 4 May 2001 13:51:00 -0700 (PDT)</td>\n",
       "      <td>Re:</td>\n",
       "      <td>\\Phillip_Allen_Jan2002_1\\Allen, Phillip K.\\'Se...</td>\n",
       "      <td>Phillip K Allen</td>\n",
       "      <td>John J Lavorato &lt;John J Lavorato/ENRON@enronXg...</td>\n",
       "      <td>Traveling to have a business meeting takes the...</td>\n",
       "    </tr>\n",
       "    <tr>\n",
       "      <td>2</td>\n",
       "      <td>allen-p/_sent_mail/100.</td>\n",
       "      <td>Message-ID: &lt;24216240.1075855687451.JavaMail.e...</td>\n",
       "      <td>Wed, 18 Oct 2000 03:00:00 -0700 (PDT)</td>\n",
       "      <td>Re: test</td>\n",
       "      <td>\\Phillip_Allen_Dec2000\\Notes Folders\\'sent mail</td>\n",
       "      <td>Phillip K Allen</td>\n",
       "      <td>Leah Van Arsdall</td>\n",
       "      <td>test successful.  way to go!!!</td>\n",
       "    </tr>\n",
       "  </tbody>\n",
       "</table>\n",
       "</div>"
      ],
      "text/plain": [
       "                      file                                            message  \\\n",
       "0    allen-p/_sent_mail/1.  Message-ID: <18782981.1075855378110.JavaMail.e...   \n",
       "1   allen-p/_sent_mail/10.  Message-ID: <15464986.1075855378456.JavaMail.e...   \n",
       "2  allen-p/_sent_mail/100.  Message-ID: <24216240.1075855687451.JavaMail.e...   \n",
       "\n",
       "                                    date   subject  \\\n",
       "0  Mon, 14 May 2001 16:39:00 -0700 (PDT)             \n",
       "1   Fri, 4 May 2001 13:51:00 -0700 (PDT)       Re:   \n",
       "2  Wed, 18 Oct 2000 03:00:00 -0700 (PDT)  Re: test   \n",
       "\n",
       "                                            X-Folder           X-From  \\\n",
       "0  \\Phillip_Allen_Jan2002_1\\Allen, Phillip K.\\'Se...  Phillip K Allen   \n",
       "1  \\Phillip_Allen_Jan2002_1\\Allen, Phillip K.\\'Se...  Phillip K Allen   \n",
       "2    \\Phillip_Allen_Dec2000\\Notes Folders\\'sent mail  Phillip K Allen   \n",
       "\n",
       "                                                X-To  \\\n",
       "0           Tim Belden <Tim Belden/Enron@EnronXGate>   \n",
       "1  John J Lavorato <John J Lavorato/ENRON@enronXg...   \n",
       "2                                   Leah Van Arsdall   \n",
       "\n",
       "                                                body  \n",
       "0                          Here is our forecast\\n\\n   \n",
       "1  Traveling to have a business meeting takes the...  \n",
       "2                     test successful.  way to go!!!  "
      ]
     },
     "execution_count": 16,
     "metadata": {},
     "output_type": "execute_result"
    }
   ],
   "source": [
    "def body(messages):\n",
    "    column = []\n",
    "    for message in messages:\n",
    "        e = email.message_from_string(message)\n",
    "        column.append(e.get_payload())\n",
    "    return column\n",
    "\n",
    "df['body'] = body(df['message'])\n",
    "df.head(3)"
   ]
  },
  {
   "cell_type": "code",
   "execution_count": 17,
   "id": "discrete-extension",
   "metadata": {},
   "outputs": [
    {
     "data": {
      "text/plain": [
       "0       allen-p/_sent_mail/1.\n",
       "1      allen-p/_sent_mail/10.\n",
       "2     allen-p/_sent_mail/100.\n",
       "3    allen-p/_sent_mail/1000.\n",
       "4    allen-p/_sent_mail/1001.\n",
       "5    allen-p/_sent_mail/1002.\n",
       "6    allen-p/_sent_mail/1003.\n",
       "7    allen-p/_sent_mail/1004.\n",
       "8     allen-p/_sent_mail/101.\n",
       "9     allen-p/_sent_mail/102.\n",
       "Name: file, dtype: object"
      ]
     },
     "execution_count": 17,
     "metadata": {},
     "output_type": "execute_result"
    }
   ],
   "source": [
    "df['file'][:10]"
   ]
  },
  {
   "cell_type": "code",
   "execution_count": 18,
   "id": "appreciated-brazilian",
   "metadata": {},
   "outputs": [
    {
     "data": {
      "text/html": [
       "<div>\n",
       "<style scoped>\n",
       "    .dataframe tbody tr th:only-of-type {\n",
       "        vertical-align: middle;\n",
       "    }\n",
       "\n",
       "    .dataframe tbody tr th {\n",
       "        vertical-align: top;\n",
       "    }\n",
       "\n",
       "    .dataframe thead th {\n",
       "        text-align: right;\n",
       "    }\n",
       "</style>\n",
       "<table border=\"1\" class=\"dataframe\">\n",
       "  <thead>\n",
       "    <tr style=\"text-align: right;\">\n",
       "      <th></th>\n",
       "      <th>file</th>\n",
       "      <th>message</th>\n",
       "      <th>date</th>\n",
       "      <th>subject</th>\n",
       "      <th>X-Folder</th>\n",
       "      <th>X-From</th>\n",
       "      <th>X-To</th>\n",
       "      <th>body</th>\n",
       "      <th>employee</th>\n",
       "    </tr>\n",
       "  </thead>\n",
       "  <tbody>\n",
       "    <tr>\n",
       "      <td>0</td>\n",
       "      <td>allen-p/_sent_mail/1.</td>\n",
       "      <td>Message-ID: &lt;18782981.1075855378110.JavaMail.e...</td>\n",
       "      <td>Mon, 14 May 2001 16:39:00 -0700 (PDT)</td>\n",
       "      <td></td>\n",
       "      <td>\\Phillip_Allen_Jan2002_1\\Allen, Phillip K.\\'Se...</td>\n",
       "      <td>Phillip K Allen</td>\n",
       "      <td>Tim Belden &lt;Tim Belden/Enron@EnronXGate&gt;</td>\n",
       "      <td>Here is our forecast\\n\\n</td>\n",
       "      <td>allen-p</td>\n",
       "    </tr>\n",
       "    <tr>\n",
       "      <td>1</td>\n",
       "      <td>allen-p/_sent_mail/10.</td>\n",
       "      <td>Message-ID: &lt;15464986.1075855378456.JavaMail.e...</td>\n",
       "      <td>Fri, 4 May 2001 13:51:00 -0700 (PDT)</td>\n",
       "      <td>Re:</td>\n",
       "      <td>\\Phillip_Allen_Jan2002_1\\Allen, Phillip K.\\'Se...</td>\n",
       "      <td>Phillip K Allen</td>\n",
       "      <td>John J Lavorato &lt;John J Lavorato/ENRON@enronXg...</td>\n",
       "      <td>Traveling to have a business meeting takes the...</td>\n",
       "      <td>allen-p</td>\n",
       "    </tr>\n",
       "    <tr>\n",
       "      <td>2</td>\n",
       "      <td>allen-p/_sent_mail/100.</td>\n",
       "      <td>Message-ID: &lt;24216240.1075855687451.JavaMail.e...</td>\n",
       "      <td>Wed, 18 Oct 2000 03:00:00 -0700 (PDT)</td>\n",
       "      <td>Re: test</td>\n",
       "      <td>\\Phillip_Allen_Dec2000\\Notes Folders\\'sent mail</td>\n",
       "      <td>Phillip K Allen</td>\n",
       "      <td>Leah Van Arsdall</td>\n",
       "      <td>test successful.  way to go!!!</td>\n",
       "      <td>allen-p</td>\n",
       "    </tr>\n",
       "  </tbody>\n",
       "</table>\n",
       "</div>"
      ],
      "text/plain": [
       "                      file                                            message  \\\n",
       "0    allen-p/_sent_mail/1.  Message-ID: <18782981.1075855378110.JavaMail.e...   \n",
       "1   allen-p/_sent_mail/10.  Message-ID: <15464986.1075855378456.JavaMail.e...   \n",
       "2  allen-p/_sent_mail/100.  Message-ID: <24216240.1075855687451.JavaMail.e...   \n",
       "\n",
       "                                    date   subject  \\\n",
       "0  Mon, 14 May 2001 16:39:00 -0700 (PDT)             \n",
       "1   Fri, 4 May 2001 13:51:00 -0700 (PDT)       Re:   \n",
       "2  Wed, 18 Oct 2000 03:00:00 -0700 (PDT)  Re: test   \n",
       "\n",
       "                                            X-Folder           X-From  \\\n",
       "0  \\Phillip_Allen_Jan2002_1\\Allen, Phillip K.\\'Se...  Phillip K Allen   \n",
       "1  \\Phillip_Allen_Jan2002_1\\Allen, Phillip K.\\'Se...  Phillip K Allen   \n",
       "2    \\Phillip_Allen_Dec2000\\Notes Folders\\'sent mail  Phillip K Allen   \n",
       "\n",
       "                                                X-To  \\\n",
       "0           Tim Belden <Tim Belden/Enron@EnronXGate>   \n",
       "1  John J Lavorato <John J Lavorato/ENRON@enronXg...   \n",
       "2                                   Leah Van Arsdall   \n",
       "\n",
       "                                                body employee  \n",
       "0                          Here is our forecast\\n\\n   allen-p  \n",
       "1  Traveling to have a business meeting takes the...  allen-p  \n",
       "2                     test successful.  way to go!!!  allen-p  "
      ]
     },
     "execution_count": 18,
     "metadata": {},
     "output_type": "execute_result"
    }
   ],
   "source": [
    "def employee(file):\n",
    "    column = []\n",
    "    for string in file:\n",
    "        column.append(string.split(\"/\")[0])\n",
    "    return column\n",
    "\n",
    "df['employee'] = employee(df['file'])\n",
    "df.head(3)"
   ]
  },
  {
   "cell_type": "code",
   "execution_count": 19,
   "id": "assured-finger",
   "metadata": {},
   "outputs": [
    {
     "name": "stdout",
     "output_type": "stream",
     "text": [
      "number of folders:  517401\n",
      "number of unique folders:  5336\n"
     ]
    }
   ],
   "source": [
    "print(\"number of folders: \", df.shape[0])\n",
    "print(\"number of unique folders: \", df['X-Folder'].unique().shape[0])"
   ]
  },
  {
   "cell_type": "code",
   "execution_count": 20,
   "id": "subtle-driver",
   "metadata": {},
   "outputs": [
    {
     "data": {
      "text/html": [
       "<div>\n",
       "<style scoped>\n",
       "    .dataframe tbody tr th:only-of-type {\n",
       "        vertical-align: middle;\n",
       "    }\n",
       "\n",
       "    .dataframe tbody tr th {\n",
       "        vertical-align: top;\n",
       "    }\n",
       "\n",
       "    .dataframe thead th {\n",
       "        text-align: right;\n",
       "    }\n",
       "</style>\n",
       "<table border=\"1\" class=\"dataframe\">\n",
       "  <thead>\n",
       "    <tr style=\"text-align: right;\">\n",
       "      <th></th>\n",
       "      <th>folder_name</th>\n",
       "      <th>count</th>\n",
       "    </tr>\n",
       "  </thead>\n",
       "  <tbody>\n",
       "    <tr>\n",
       "      <td>0</td>\n",
       "      <td>\\Kay_Mann_June2001_1\\Notes Folders\\All documents</td>\n",
       "      <td>6639</td>\n",
       "    </tr>\n",
       "    <tr>\n",
       "      <td>1</td>\n",
       "      <td>\\Tanya_Jones_Dec2000\\Notes Folders\\All documents</td>\n",
       "      <td>5934</td>\n",
       "    </tr>\n",
       "    <tr>\n",
       "      <td>2</td>\n",
       "      <td>\\Jeff_Dasovich_June2001\\Notes Folders\\All docu...</td>\n",
       "      <td>5637</td>\n",
       "    </tr>\n",
       "    <tr>\n",
       "      <td>3</td>\n",
       "      <td>\\Sara_Shackleton_Dec2000_June2001_1\\Notes Fold...</td>\n",
       "      <td>5211</td>\n",
       "    </tr>\n",
       "    <tr>\n",
       "      <td>4</td>\n",
       "      <td>\\Vincent_Kaminski_Jun2001_1\\Notes Folders\\All ...</td>\n",
       "      <td>5066</td>\n",
       "    </tr>\n",
       "    <tr>\n",
       "      <td>5</td>\n",
       "      <td>\\Kay_Mann_June2001_2\\Notes Folders\\Discussion ...</td>\n",
       "      <td>4956</td>\n",
       "    </tr>\n",
       "    <tr>\n",
       "      <td>6</td>\n",
       "      <td>\\Jeff_Dasovich_Dec2000\\Notes Folders\\All docum...</td>\n",
       "      <td>4660</td>\n",
       "    </tr>\n",
       "    <tr>\n",
       "      <td>7</td>\n",
       "      <td>\\Kay_Mann_June2001_3\\Notes Folders\\Sent</td>\n",
       "      <td>4440</td>\n",
       "    </tr>\n",
       "    <tr>\n",
       "      <td>8</td>\n",
       "      <td>\\Kay_Mann_June2001_4\\Notes Folders\\'sent mail</td>\n",
       "      <td>4220</td>\n",
       "    </tr>\n",
       "    <tr>\n",
       "      <td>9</td>\n",
       "      <td>\\Mark_Taylor _Dec_2000\\Notes Folders\\All docum...</td>\n",
       "      <td>4022</td>\n",
       "    </tr>\n",
       "    <tr>\n",
       "      <td>10</td>\n",
       "      <td>\\Vincent_Kaminski_Jun2001_2\\Notes Folders\\Disc...</td>\n",
       "      <td>3980</td>\n",
       "    </tr>\n",
       "    <tr>\n",
       "      <td>11</td>\n",
       "      <td>\\Jeff_Dasovich_June2001\\Notes Folders\\Notes inbox</td>\n",
       "      <td>3535</td>\n",
       "    </tr>\n",
       "    <tr>\n",
       "      <td>12</td>\n",
       "      <td>\\Steven_Kean_June2001_4\\Notes Folders\\Discussi...</td>\n",
       "      <td>3434</td>\n",
       "    </tr>\n",
       "    <tr>\n",
       "      <td>13</td>\n",
       "      <td>\\Tanya_Jones_June2001\\Notes Folders\\All documents</td>\n",
       "      <td>3365</td>\n",
       "    </tr>\n",
       "    <tr>\n",
       "      <td>14</td>\n",
       "      <td>\\kate symes 6-27-02\\Notes Folders\\All documents</td>\n",
       "      <td>3221</td>\n",
       "    </tr>\n",
       "    <tr>\n",
       "      <td>15</td>\n",
       "      <td>\\kate symes 6-27-02\\Notes Folders\\Discussion t...</td>\n",
       "      <td>3065</td>\n",
       "    </tr>\n",
       "    <tr>\n",
       "      <td>16</td>\n",
       "      <td>\\Tanya_Jones_Dec2000\\Notes Folders\\Notes inbox</td>\n",
       "      <td>2975</td>\n",
       "    </tr>\n",
       "    <tr>\n",
       "      <td>17</td>\n",
       "      <td>\\Sara_Shackleton_Dec2000_June2001_2\\Notes Fold...</td>\n",
       "      <td>2944</td>\n",
       "    </tr>\n",
       "    <tr>\n",
       "      <td>18</td>\n",
       "      <td>\\Darren_Farmer_Dec2000\\Notes Folders\\All docum...</td>\n",
       "      <td>2838</td>\n",
       "    </tr>\n",
       "    <tr>\n",
       "      <td>19</td>\n",
       "      <td>\\Tanya_Jones_Dec2000\\Notes Folders\\Sent</td>\n",
       "      <td>2633</td>\n",
       "    </tr>\n",
       "  </tbody>\n",
       "</table>\n",
       "</div>"
      ],
      "text/plain": [
       "                                          folder_name  count\n",
       "0    \\Kay_Mann_June2001_1\\Notes Folders\\All documents   6639\n",
       "1    \\Tanya_Jones_Dec2000\\Notes Folders\\All documents   5934\n",
       "2   \\Jeff_Dasovich_June2001\\Notes Folders\\All docu...   5637\n",
       "3   \\Sara_Shackleton_Dec2000_June2001_1\\Notes Fold...   5211\n",
       "4   \\Vincent_Kaminski_Jun2001_1\\Notes Folders\\All ...   5066\n",
       "5   \\Kay_Mann_June2001_2\\Notes Folders\\Discussion ...   4956\n",
       "6   \\Jeff_Dasovich_Dec2000\\Notes Folders\\All docum...   4660\n",
       "7             \\Kay_Mann_June2001_3\\Notes Folders\\Sent   4440\n",
       "8       \\Kay_Mann_June2001_4\\Notes Folders\\'sent mail   4220\n",
       "9   \\Mark_Taylor _Dec_2000\\Notes Folders\\All docum...   4022\n",
       "10  \\Vincent_Kaminski_Jun2001_2\\Notes Folders\\Disc...   3980\n",
       "11  \\Jeff_Dasovich_June2001\\Notes Folders\\Notes inbox   3535\n",
       "12  \\Steven_Kean_June2001_4\\Notes Folders\\Discussi...   3434\n",
       "13  \\Tanya_Jones_June2001\\Notes Folders\\All documents   3365\n",
       "14    \\kate symes 6-27-02\\Notes Folders\\All documents   3221\n",
       "15  \\kate symes 6-27-02\\Notes Folders\\Discussion t...   3065\n",
       "16     \\Tanya_Jones_Dec2000\\Notes Folders\\Notes inbox   2975\n",
       "17  \\Sara_Shackleton_Dec2000_June2001_2\\Notes Fold...   2944\n",
       "18  \\Darren_Farmer_Dec2000\\Notes Folders\\All docum...   2838\n",
       "19            \\Tanya_Jones_Dec2000\\Notes Folders\\Sent   2633"
      ]
     },
     "execution_count": 20,
     "metadata": {},
     "output_type": "execute_result"
    }
   ],
   "source": [
    "unique_emails = pd.DataFrame(df['X-Folder'].value_counts())\n",
    "unique_emails.reset_index(inplace=True)\n",
    "\n",
    "\n",
    "unique_emails.columns = ['folder_name', 'count']\n",
    "# top 20 folders\n",
    "unique_emails.iloc[:20,:]"
   ]
  },
  {
   "cell_type": "code",
   "execution_count": 21,
   "id": "classified-updating",
   "metadata": {},
   "outputs": [
    {
     "data": {
      "image/png": "[encoded data removed]",
      "text/plain": [
       "<Figure size 720x432 with 1 Axes>"
      ]
     },
     "metadata": {
      "needs_background": "light"
     },
     "output_type": "display_data"
    }
   ],
   "source": [
    "plt.figure(figsize=(10,6))\n",
    "sns.barplot(x='count', y='folder_name', data=unique_emails.iloc[:20, :], palette=\"Blues_d\")\n",
    "plt.title(\"Top 20 folders\")\n",
    "plt.xlabel(\"Count\")\n",
    "plt.ylabel(\"Folder_Name\")\n",
    "plt.show()"
   ]
  },
  {
   "cell_type": "code",
   "execution_count": 22,
   "id": "everyday-entry",
   "metadata": {},
   "outputs": [
    {
     "data": {
      "text/html": [
       "<div>\n",
       "<style scoped>\n",
       "    .dataframe tbody tr th:only-of-type {\n",
       "        vertical-align: middle;\n",
       "    }\n",
       "\n",
       "    .dataframe tbody tr th {\n",
       "        vertical-align: top;\n",
       "    }\n",
       "\n",
       "    .dataframe thead th {\n",
       "        text-align: right;\n",
       "    }\n",
       "</style>\n",
       "<table border=\"1\" class=\"dataframe\">\n",
       "  <thead>\n",
       "    <tr style=\"text-align: right;\">\n",
       "      <th></th>\n",
       "      <th>Employee_name</th>\n",
       "      <th>Counts</th>\n",
       "    </tr>\n",
       "  </thead>\n",
       "  <tbody>\n",
       "    <tr>\n",
       "      <td>0</td>\n",
       "      <td>kaminski-v</td>\n",
       "      <td>28465</td>\n",
       "    </tr>\n",
       "    <tr>\n",
       "      <td>1</td>\n",
       "      <td>dasovich-j</td>\n",
       "      <td>28234</td>\n",
       "    </tr>\n",
       "    <tr>\n",
       "      <td>2</td>\n",
       "      <td>kean-s</td>\n",
       "      <td>25351</td>\n",
       "    </tr>\n",
       "    <tr>\n",
       "      <td>3</td>\n",
       "      <td>mann-k</td>\n",
       "      <td>23381</td>\n",
       "    </tr>\n",
       "    <tr>\n",
       "      <td>4</td>\n",
       "      <td>jones-t</td>\n",
       "      <td>19950</td>\n",
       "    </tr>\n",
       "    <tr>\n",
       "      <td>5</td>\n",
       "      <td>shackleton-s</td>\n",
       "      <td>18687</td>\n",
       "    </tr>\n",
       "    <tr>\n",
       "      <td>6</td>\n",
       "      <td>taylor-m</td>\n",
       "      <td>13875</td>\n",
       "    </tr>\n",
       "    <tr>\n",
       "      <td>7</td>\n",
       "      <td>farmer-d</td>\n",
       "      <td>13032</td>\n",
       "    </tr>\n",
       "    <tr>\n",
       "      <td>8</td>\n",
       "      <td>germany-c</td>\n",
       "      <td>12436</td>\n",
       "    </tr>\n",
       "    <tr>\n",
       "      <td>9</td>\n",
       "      <td>beck-s</td>\n",
       "      <td>11830</td>\n",
       "    </tr>\n",
       "    <tr>\n",
       "      <td>10</td>\n",
       "      <td>symes-k</td>\n",
       "      <td>10827</td>\n",
       "    </tr>\n",
       "    <tr>\n",
       "      <td>11</td>\n",
       "      <td>nemec-g</td>\n",
       "      <td>10655</td>\n",
       "    </tr>\n",
       "    <tr>\n",
       "      <td>12</td>\n",
       "      <td>scott-s</td>\n",
       "      <td>8022</td>\n",
       "    </tr>\n",
       "    <tr>\n",
       "      <td>13</td>\n",
       "      <td>rogers-b</td>\n",
       "      <td>8009</td>\n",
       "    </tr>\n",
       "    <tr>\n",
       "      <td>14</td>\n",
       "      <td>bass-e</td>\n",
       "      <td>7823</td>\n",
       "    </tr>\n",
       "    <tr>\n",
       "      <td>15</td>\n",
       "      <td>sanders-r</td>\n",
       "      <td>7329</td>\n",
       "    </tr>\n",
       "    <tr>\n",
       "      <td>16</td>\n",
       "      <td>campbell-l</td>\n",
       "      <td>6490</td>\n",
       "    </tr>\n",
       "    <tr>\n",
       "      <td>17</td>\n",
       "      <td>shapiro-r</td>\n",
       "      <td>6071</td>\n",
       "    </tr>\n",
       "    <tr>\n",
       "      <td>18</td>\n",
       "      <td>guzman-m</td>\n",
       "      <td>6054</td>\n",
       "    </tr>\n",
       "    <tr>\n",
       "      <td>19</td>\n",
       "      <td>lay-k</td>\n",
       "      <td>5937</td>\n",
       "    </tr>\n",
       "  </tbody>\n",
       "</table>\n",
       "</div>"
      ],
      "text/plain": [
       "   Employee_name  Counts\n",
       "0     kaminski-v   28465\n",
       "1     dasovich-j   28234\n",
       "2         kean-s   25351\n",
       "3         mann-k   23381\n",
       "4        jones-t   19950\n",
       "5   shackleton-s   18687\n",
       "6       taylor-m   13875\n",
       "7       farmer-d   13032\n",
       "8      germany-c   12436\n",
       "9         beck-s   11830\n",
       "10       symes-k   10827\n",
       "11       nemec-g   10655\n",
       "12       scott-s    8022\n",
       "13      rogers-b    8009\n",
       "14        bass-e    7823\n",
       "15     sanders-r    7329\n",
       "16    campbell-l    6490\n",
       "17     shapiro-r    6071\n",
       "18      guzman-m    6054\n",
       "19         lay-k    5937"
      ]
     },
     "execution_count": 22,
     "metadata": {},
     "output_type": "execute_result"
    }
   ],
   "source": [
    "top_20 = pd.DataFrame(df['employee'].value_counts()[:20])\n",
    "top_20.reset_index(inplace=True)\n",
    "top_20.columns = [\"Employee_name\", \"Counts\"]\n",
    "top_20"
   ]
  },
  {
   "cell_type": "code",
   "execution_count": 23,
   "id": "enabling-arctic",
   "metadata": {},
   "outputs": [
    {
     "data": {
      "image/png": "[encoded data removed]",
      "text/plain": [
       "<Figure size 720x576 with 1 Axes>"
      ]
     },
     "metadata": {
      "needs_background": "light"
     },
     "output_type": "display_data"
    }
   ],
   "source": [
    "plt.figure(figsize=(10,8))\n",
    "\n",
    "sns.barplot(y=\"Employee_name\", x=\"Counts\", data=top_20, palette=\"Blues_d\")\n",
    "plt.title(\"Top 20 highest email sender employee\")\n",
    "plt.xlabel(\"Count\")\n",
    "plt.ylabel(\"Employee_name\")\n",
    "plt.show()"
   ]
  },
  {
   "cell_type": "code",
   "execution_count": 24,
   "id": "strong-identification",
   "metadata": {},
   "outputs": [
    {
     "name": "stdout",
     "output_type": "stream",
     "text": [
      "04-05-2001 13:51:00\n"
     ]
    }
   ],
   "source": [
    "import datetime\n",
    "from dateutil import parser\n",
    "\n",
    "# this is sample example\n",
    "x = parser.parse(\"Fri, 4 May 2001 13:51:00 -0700 (PDT)\")\n",
    "print(x.strftime(\"%d-%m-%Y %H:%M:%S\"))"
   ]
  },
  {
   "cell_type": "code",
   "execution_count": 25,
   "id": "buried-compilation",
   "metadata": {},
   "outputs": [
    {
     "data": {
      "text/html": [
       "<div>\n",
       "<style scoped>\n",
       "    .dataframe tbody tr th:only-of-type {\n",
       "        vertical-align: middle;\n",
       "    }\n",
       "\n",
       "    .dataframe tbody tr th {\n",
       "        vertical-align: top;\n",
       "    }\n",
       "\n",
       "    .dataframe thead th {\n",
       "        text-align: right;\n",
       "    }\n",
       "</style>\n",
       "<table border=\"1\" class=\"dataframe\">\n",
       "  <thead>\n",
       "    <tr style=\"text-align: right;\">\n",
       "      <th></th>\n",
       "      <th>file</th>\n",
       "      <th>message</th>\n",
       "      <th>date</th>\n",
       "      <th>subject</th>\n",
       "      <th>X-Folder</th>\n",
       "      <th>X-From</th>\n",
       "      <th>X-To</th>\n",
       "      <th>body</th>\n",
       "      <th>employee</th>\n",
       "    </tr>\n",
       "  </thead>\n",
       "  <tbody>\n",
       "    <tr>\n",
       "      <td>0</td>\n",
       "      <td>allen-p/_sent_mail/1.</td>\n",
       "      <td>Message-ID: &lt;18782981.1075855378110.JavaMail.e...</td>\n",
       "      <td>14-05-2001 16:39:00</td>\n",
       "      <td></td>\n",
       "      <td>\\Phillip_Allen_Jan2002_1\\Allen, Phillip K.\\'Se...</td>\n",
       "      <td>Phillip K Allen</td>\n",
       "      <td>Tim Belden &lt;Tim Belden/Enron@EnronXGate&gt;</td>\n",
       "      <td>Here is our forecast\\n\\n</td>\n",
       "      <td>allen-p</td>\n",
       "    </tr>\n",
       "    <tr>\n",
       "      <td>1</td>\n",
       "      <td>allen-p/_sent_mail/10.</td>\n",
       "      <td>Message-ID: &lt;15464986.1075855378456.JavaMail.e...</td>\n",
       "      <td>04-05-2001 13:51:00</td>\n",
       "      <td>Re:</td>\n",
       "      <td>\\Phillip_Allen_Jan2002_1\\Allen, Phillip K.\\'Se...</td>\n",
       "      <td>Phillip K Allen</td>\n",
       "      <td>John J Lavorato &lt;John J Lavorato/ENRON@enronXg...</td>\n",
       "      <td>Traveling to have a business meeting takes the...</td>\n",
       "      <td>allen-p</td>\n",
       "    </tr>\n",
       "  </tbody>\n",
       "</table>\n",
       "</div>"
      ],
      "text/plain": [
       "                     file                                            message  \\\n",
       "0   allen-p/_sent_mail/1.  Message-ID: <18782981.1075855378110.JavaMail.e...   \n",
       "1  allen-p/_sent_mail/10.  Message-ID: <15464986.1075855378456.JavaMail.e...   \n",
       "\n",
       "                  date subject  \\\n",
       "0  14-05-2001 16:39:00           \n",
       "1  04-05-2001 13:51:00     Re:   \n",
       "\n",
       "                                            X-Folder           X-From  \\\n",
       "0  \\Phillip_Allen_Jan2002_1\\Allen, Phillip K.\\'Se...  Phillip K Allen   \n",
       "1  \\Phillip_Allen_Jan2002_1\\Allen, Phillip K.\\'Se...  Phillip K Allen   \n",
       "\n",
       "                                                X-To  \\\n",
       "0           Tim Belden <Tim Belden/Enron@EnronXGate>   \n",
       "1  John J Lavorato <John J Lavorato/ENRON@enronXg...   \n",
       "\n",
       "                                                body employee  \n",
       "0                          Here is our forecast\\n\\n   allen-p  \n",
       "1  Traveling to have a business meeting takes the...  allen-p  "
      ]
     },
     "execution_count": 25,
     "metadata": {},
     "output_type": "execute_result"
    }
   ],
   "source": [
    "def change_type(dates):\n",
    "    column = []\n",
    "    \n",
    "    for date in dates:\n",
    "        column.append(parser.parse(date).strftime(\"%d-%m-%Y %H:%M:%S\"))\n",
    "    return column\n",
    "\n",
    "df['date'] = change_type(df['date'])\n",
    "df.head(2)"
   ]
  },
  {
   "cell_type": "code",
   "execution_count": 26,
   "id": "occupational-steel",
   "metadata": {},
   "outputs": [
    {
     "name": "stdout",
     "output_type": "stream",
     "text": [
      "\\Phillip_Allen_Jan2002_1\\Allen, Phillip K.\\'Sent Mail\n"
     ]
    },
    {
     "data": {
      "text/plain": [
       "\"'Sent Mail\""
      ]
     },
     "execution_count": 26,
     "metadata": {},
     "output_type": "execute_result"
    }
   ],
   "source": [
    "print(df['X-Folder'][0])\n",
    "\n",
    "# we only want last folder name\n",
    "df['X-Folder'][0].split(\"\\\\\")[-1]"
   ]
  },
  {
   "cell_type": "code",
   "execution_count": 27,
   "id": "passing-ghost",
   "metadata": {},
   "outputs": [
    {
     "data": {
      "text/html": [
       "<div>\n",
       "<style scoped>\n",
       "    .dataframe tbody tr th:only-of-type {\n",
       "        vertical-align: middle;\n",
       "    }\n",
       "\n",
       "    .dataframe tbody tr th {\n",
       "        vertical-align: top;\n",
       "    }\n",
       "\n",
       "    .dataframe thead th {\n",
       "        text-align: right;\n",
       "    }\n",
       "</style>\n",
       "<table border=\"1\" class=\"dataframe\">\n",
       "  <thead>\n",
       "    <tr style=\"text-align: right;\">\n",
       "      <th></th>\n",
       "      <th>file</th>\n",
       "      <th>message</th>\n",
       "      <th>date</th>\n",
       "      <th>subject</th>\n",
       "      <th>X-Folder</th>\n",
       "      <th>X-From</th>\n",
       "      <th>X-To</th>\n",
       "      <th>body</th>\n",
       "      <th>employee</th>\n",
       "    </tr>\n",
       "  </thead>\n",
       "  <tbody>\n",
       "    <tr>\n",
       "      <td>0</td>\n",
       "      <td>allen-p/_sent_mail/1.</td>\n",
       "      <td>Message-ID: &lt;18782981.1075855378110.JavaMail.e...</td>\n",
       "      <td>14-05-2001 16:39:00</td>\n",
       "      <td></td>\n",
       "      <td>'sent mail</td>\n",
       "      <td>Phillip K Allen</td>\n",
       "      <td>Tim Belden &lt;Tim Belden/Enron@EnronXGate&gt;</td>\n",
       "      <td>Here is our forecast\\n\\n</td>\n",
       "      <td>allen-p</td>\n",
       "    </tr>\n",
       "    <tr>\n",
       "      <td>1</td>\n",
       "      <td>allen-p/_sent_mail/10.</td>\n",
       "      <td>Message-ID: &lt;15464986.1075855378456.JavaMail.e...</td>\n",
       "      <td>04-05-2001 13:51:00</td>\n",
       "      <td>Re:</td>\n",
       "      <td>'sent mail</td>\n",
       "      <td>Phillip K Allen</td>\n",
       "      <td>John J Lavorato &lt;John J Lavorato/ENRON@enronXg...</td>\n",
       "      <td>Traveling to have a business meeting takes the...</td>\n",
       "      <td>allen-p</td>\n",
       "    </tr>\n",
       "  </tbody>\n",
       "</table>\n",
       "</div>"
      ],
      "text/plain": [
       "                     file                                            message  \\\n",
       "0   allen-p/_sent_mail/1.  Message-ID: <18782981.1075855378110.JavaMail.e...   \n",
       "1  allen-p/_sent_mail/10.  Message-ID: <15464986.1075855378456.JavaMail.e...   \n",
       "\n",
       "                  date subject    X-Folder           X-From  \\\n",
       "0  14-05-2001 16:39:00          'sent mail  Phillip K Allen   \n",
       "1  04-05-2001 13:51:00     Re:  'sent mail  Phillip K Allen   \n",
       "\n",
       "                                                X-To  \\\n",
       "0           Tim Belden <Tim Belden/Enron@EnronXGate>   \n",
       "1  John J Lavorato <John J Lavorato/ENRON@enronXg...   \n",
       "\n",
       "                                                body employee  \n",
       "0                          Here is our forecast\\n\\n   allen-p  \n",
       "1  Traveling to have a business meeting takes the...  allen-p  "
      ]
     },
     "execution_count": 27,
     "metadata": {},
     "output_type": "execute_result"
    }
   ],
   "source": [
    "def preprocess_folder(folders):\n",
    "    column = []\n",
    "    for folder in folders:\n",
    "        if (folder is None or folder == \"\"):\n",
    "            column.append(np.nan)\n",
    "        else:\n",
    "            column.append(folder.split(\"\\\\\")[-1].lower())\n",
    "    return column\n",
    "\n",
    "df['X-Folder'] = preprocess_folder(df['X-Folder'])\n",
    "df.head(2)"
   ]
  },
  {
   "cell_type": "code",
   "execution_count": 28,
   "id": "focal-variety",
   "metadata": {},
   "outputs": [
    {
     "name": "stdout",
     "output_type": "stream",
     "text": [
      "Unique Foldes:  1782\n"
     ]
    },
    {
     "data": {
      "text/plain": [
       "array([\"'sent mail\", 'all documents', 'contacts', 'deleted items',\n",
       "       'discussion threads', 'inbox', 'notes inbox', 'sent items', 'sent',\n",
       "       'straw', '2000 conference', 'active international', 'avaya', 'bmc',\n",
       "       'bridge', 'bristol babcock', 'colleen koenig', 'compaq',\n",
       "       'computer associates', 'continental airlines'], dtype=object)"
      ]
     },
     "execution_count": 28,
     "metadata": {},
     "output_type": "execute_result"
    }
   ],
   "source": [
    "# count unique folders\n",
    "print(\"Unique Foldes: \", len(df['X-Folder'].unique()))\n",
    "\n",
    "# view some of them\n",
    "df['X-Folder'].unique()[0:20]"
   ]
  },
  {
   "cell_type": "code",
   "execution_count": 29,
   "id": "raising-architecture",
   "metadata": {},
   "outputs": [],
   "source": [
    "def replace_empty_with_nan(subject):\n",
    "    column = []\n",
    "    for val in subject:\n",
    "        if (val == \"\"):\n",
    "            column.append(np.nan) \n",
    "        else:\n",
    "            column.append(val)\n",
    "    return column"
   ]
  },
  {
   "cell_type": "code",
   "execution_count": 30,
   "id": "severe-surgeon",
   "metadata": {},
   "outputs": [],
   "source": [
    "df['subject'] = replace_empty_with_nan(df['subject'])\n",
    "df['X-To'] = replace_empty_with_nan(df['X-To'])"
   ]
  },
  {
   "cell_type": "code",
   "execution_count": 31,
   "id": "neutral-symbol",
   "metadata": {},
   "outputs": [
    {
     "data": {
      "text/plain": [
       "file            0\n",
       "message         0\n",
       "date            0\n",
       "subject     19187\n",
       "X-Folder       29\n",
       "X-From         29\n",
       "X-To         9153\n",
       "body            0\n",
       "employee        0\n",
       "dtype: int64"
      ]
     },
     "execution_count": 31,
     "metadata": {},
     "output_type": "execute_result"
    }
   ],
   "source": [
    "df.isnull().sum()"
   ]
  },
  {
   "cell_type": "code",
   "execution_count": 32,
   "id": "quarterly-annual",
   "metadata": {},
   "outputs": [
    {
     "data": {
      "text/plain": [
       "subject     0.037083\n",
       "X-Folder    0.000056\n",
       "X-From      0.000056\n",
       "X-To        0.017690\n",
       "dtype: float64"
      ]
     },
     "execution_count": 32,
     "metadata": {},
     "output_type": "execute_result"
    }
   ],
   "source": [
    "# calculate percentage of missing values\n",
    "miss = df.isnull().sum()\n",
    "miss = miss[miss>0]\n",
    "miss = miss / df.shape[0]\n",
    "miss"
   ]
  },
  {
   "cell_type": "code",
   "execution_count": 33,
   "id": "handed-scholarship",
   "metadata": {},
   "outputs": [],
   "source": [
    "# drop missing value rows\n",
    "df.dropna(axis=0, inplace=True)"
   ]
  },
  {
   "cell_type": "code",
   "execution_count": 34,
   "id": "bigger-interval",
   "metadata": {},
   "outputs": [
    {
     "data": {
      "text/plain": [
       "(file        0\n",
       " message     0\n",
       " date        0\n",
       " subject     0\n",
       " X-Folder    0\n",
       " X-From      0\n",
       " X-To        0\n",
       " body        0\n",
       " employee    0\n",
       " dtype: int64,\n",
       " (489236, 9))"
      ]
     },
     "execution_count": 34,
     "metadata": {},
     "output_type": "execute_result"
    }
   ],
   "source": [
    "df.isnull().sum(), df.shape"
   ]
  },
  {
   "cell_type": "code",
   "execution_count": 35,
   "id": "israeli-fight",
   "metadata": {},
   "outputs": [
    {
     "data": {
      "text/html": [
       "<div>\n",
       "<style scoped>\n",
       "    .dataframe tbody tr th:only-of-type {\n",
       "        vertical-align: middle;\n",
       "    }\n",
       "\n",
       "    .dataframe tbody tr th {\n",
       "        vertical-align: top;\n",
       "    }\n",
       "\n",
       "    .dataframe thead th {\n",
       "        text-align: right;\n",
       "    }\n",
       "</style>\n",
       "<table border=\"1\" class=\"dataframe\">\n",
       "  <thead>\n",
       "    <tr style=\"text-align: right;\">\n",
       "      <th></th>\n",
       "      <th>file</th>\n",
       "      <th>message</th>\n",
       "      <th>date</th>\n",
       "      <th>subject</th>\n",
       "      <th>X-Folder</th>\n",
       "      <th>X-From</th>\n",
       "      <th>X-To</th>\n",
       "      <th>body</th>\n",
       "      <th>employee</th>\n",
       "    </tr>\n",
       "  </thead>\n",
       "  <tbody>\n",
       "    <tr>\n",
       "      <td>1</td>\n",
       "      <td>allen-p/_sent_mail/10.</td>\n",
       "      <td>Message-ID: &lt;15464986.1075855378456.JavaMail.e...</td>\n",
       "      <td>04-05-2001 13:51:00</td>\n",
       "      <td>Re:</td>\n",
       "      <td>'sent mail</td>\n",
       "      <td>Phillip K Allen</td>\n",
       "      <td>John J Lavorato &lt;John J Lavorato/ENRON@enronXg...</td>\n",
       "      <td>Traveling to have a business meeting takes the...</td>\n",
       "      <td>allen-p</td>\n",
       "    </tr>\n",
       "    <tr>\n",
       "      <td>2</td>\n",
       "      <td>allen-p/_sent_mail/100.</td>\n",
       "      <td>Message-ID: &lt;24216240.1075855687451.JavaMail.e...</td>\n",
       "      <td>18-10-2000 03:00:00</td>\n",
       "      <td>Re: test</td>\n",
       "      <td>'sent mail</td>\n",
       "      <td>Phillip K Allen</td>\n",
       "      <td>Leah Van Arsdall</td>\n",
       "      <td>test successful.  way to go!!!</td>\n",
       "      <td>allen-p</td>\n",
       "    </tr>\n",
       "    <tr>\n",
       "      <td>4</td>\n",
       "      <td>allen-p/_sent_mail/1001.</td>\n",
       "      <td>Message-ID: &lt;30922949.1075863688243.JavaMail.e...</td>\n",
       "      <td>31-08-2000 05:07:00</td>\n",
       "      <td>Re: Hello</td>\n",
       "      <td>'sent mail</td>\n",
       "      <td>Phillip K Allen</td>\n",
       "      <td>Greg Piper</td>\n",
       "      <td>Let's shoot for Tuesday at 11:45.</td>\n",
       "      <td>allen-p</td>\n",
       "    </tr>\n",
       "  </tbody>\n",
       "</table>\n",
       "</div>"
      ],
      "text/plain": [
       "                       file  \\\n",
       "1    allen-p/_sent_mail/10.   \n",
       "2   allen-p/_sent_mail/100.   \n",
       "4  allen-p/_sent_mail/1001.   \n",
       "\n",
       "                                             message                 date  \\\n",
       "1  Message-ID: <15464986.1075855378456.JavaMail.e...  04-05-2001 13:51:00   \n",
       "2  Message-ID: <24216240.1075855687451.JavaMail.e...  18-10-2000 03:00:00   \n",
       "4  Message-ID: <30922949.1075863688243.JavaMail.e...  31-08-2000 05:07:00   \n",
       "\n",
       "     subject    X-Folder           X-From  \\\n",
       "1        Re:  'sent mail  Phillip K Allen   \n",
       "2   Re: test  'sent mail  Phillip K Allen   \n",
       "4  Re: Hello  'sent mail  Phillip K Allen   \n",
       "\n",
       "                                                X-To  \\\n",
       "1  John J Lavorato <John J Lavorato/ENRON@enronXg...   \n",
       "2                                   Leah Van Arsdall   \n",
       "4                                         Greg Piper   \n",
       "\n",
       "                                                body employee  \n",
       "1  Traveling to have a business meeting takes the...  allen-p  \n",
       "2                     test successful.  way to go!!!  allen-p  \n",
       "4                Let's shoot for Tuesday at 11:45.    allen-p  "
      ]
     },
     "execution_count": 35,
     "metadata": {},
     "output_type": "execute_result"
    }
   ],
   "source": [
    "df.head(3)"
   ]
  },
  {
   "cell_type": "code",
   "execution_count": 36,
   "id": "forward-feeding",
   "metadata": {},
   "outputs": [],
   "source": [
    "cols_to_drop = ['file','message','date','X-From','X-To','employee']"
   ]
  },
  {
   "cell_type": "code",
   "execution_count": 37,
   "id": "corporate-patrol",
   "metadata": {},
   "outputs": [],
   "source": [
    "df.drop(cols_to_drop, axis=1, inplace=True)"
   ]
  },
  {
   "cell_type": "code",
   "execution_count": 38,
   "id": "affected-fourth",
   "metadata": {},
   "outputs": [
    {
     "data": {
      "text/html": [
       "<div>\n",
       "<style scoped>\n",
       "    .dataframe tbody tr th:only-of-type {\n",
       "        vertical-align: middle;\n",
       "    }\n",
       "\n",
       "    .dataframe tbody tr th {\n",
       "        vertical-align: top;\n",
       "    }\n",
       "\n",
       "    .dataframe thead th {\n",
       "        text-align: right;\n",
       "    }\n",
       "</style>\n",
       "<table border=\"1\" class=\"dataframe\">\n",
       "  <thead>\n",
       "    <tr style=\"text-align: right;\">\n",
       "      <th></th>\n",
       "      <th>subject</th>\n",
       "      <th>X-Folder</th>\n",
       "      <th>body</th>\n",
       "    </tr>\n",
       "  </thead>\n",
       "  <tbody>\n",
       "    <tr>\n",
       "      <td>1</td>\n",
       "      <td>Re:</td>\n",
       "      <td>'sent mail</td>\n",
       "      <td>Traveling to have a business meeting takes the...</td>\n",
       "    </tr>\n",
       "    <tr>\n",
       "      <td>2</td>\n",
       "      <td>Re: test</td>\n",
       "      <td>'sent mail</td>\n",
       "      <td>test successful.  way to go!!!</td>\n",
       "    </tr>\n",
       "    <tr>\n",
       "      <td>4</td>\n",
       "      <td>Re: Hello</td>\n",
       "      <td>'sent mail</td>\n",
       "      <td>Let's shoot for Tuesday at 11:45.</td>\n",
       "    </tr>\n",
       "    <tr>\n",
       "      <td>5</td>\n",
       "      <td>Re: Hello</td>\n",
       "      <td>'sent mail</td>\n",
       "      <td>Greg,\\n\\n How about either next Tuesday or Thu...</td>\n",
       "    </tr>\n",
       "    <tr>\n",
       "      <td>7</td>\n",
       "      <td>Re: PRC review - phone calls</td>\n",
       "      <td>'sent mail</td>\n",
       "      <td>any morning between 10 and 11:30</td>\n",
       "    </tr>\n",
       "  </tbody>\n",
       "</table>\n",
       "</div>"
      ],
      "text/plain": [
       "                        subject    X-Folder  \\\n",
       "1                           Re:  'sent mail   \n",
       "2                      Re: test  'sent mail   \n",
       "4                     Re: Hello  'sent mail   \n",
       "5                     Re: Hello  'sent mail   \n",
       "7  Re: PRC review - phone calls  'sent mail   \n",
       "\n",
       "                                                body  \n",
       "1  Traveling to have a business meeting takes the...  \n",
       "2                     test successful.  way to go!!!  \n",
       "4                Let's shoot for Tuesday at 11:45.    \n",
       "5  Greg,\\n\\n How about either next Tuesday or Thu...  \n",
       "7                   any morning between 10 and 11:30  "
      ]
     },
     "execution_count": 38,
     "metadata": {},
     "output_type": "execute_result"
    }
   ],
   "source": [
    "df.head()"
   ]
  },
  {
   "cell_type": "code",
   "execution_count": 39,
   "id": "entertaining-darkness",
   "metadata": {},
   "outputs": [],
   "source": [
    "# save the data\n",
    "df.to_csv(\"cleaned_data.csv\", index=False)"
   ]
  },
  {
   "cell_type": "code",
   "execution_count": null,
   "id": "received-wilderness",
   "metadata": {},
   "outputs": [],
   "source": []
  }
 ],
 "metadata": {
  "kernelspec": {
   "display_name": "Python 3",
   "language": "python",
   "name": "python3"
  },
  "language_info": {
   "codemirror_mode": {
    "name": "ipython",
    "version": 3
   },
   "file_extension": ".py",
   "mimetype": "text/x-python",
   "name": "python",
   "nbconvert_exporter": "python",
   "pygments_lexer": "ipython3",
   "version": "3.7.3"
  }
 },
 "nbformat": 4,
 "nbformat_minor": 5
}
