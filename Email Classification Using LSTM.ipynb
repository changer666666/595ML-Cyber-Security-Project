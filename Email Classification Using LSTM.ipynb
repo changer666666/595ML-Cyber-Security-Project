{
 "cells": [
  {
   "cell_type": "code",
   "execution_count": 8,
   "metadata": {},
   "outputs": [
    {
     "name": "stdout",
     "output_type": "stream",
     "text": [
      "E:\\EEP595EnronEmailProject\\emails\\emails.csv\n"
     ]
    }
   ],
   "source": [
    "# This Python 3 environment comes with many helpful analytics libraries installed\n",
    "# It is defined by the kaggle/python Docker image: https://github.com/kaggle/docker-python\n",
    "# For example, here's several helpful packages to load\n",
    "\n",
    "import numpy as np # linear algebra\n",
    "import pandas as pd # data processing, CSV file I/O (e.g. pd.read_csv)\n",
    "\n",
    "# Input data files are available in the read-only \"../input/\" directory\n",
    "# For example, running this (by clicking run or pressing Shift+Enter) will list all files under the input directory\n",
    "\n",
    "import os\n",
    "for dirname, _, filenames in os.walk('E:\\EEP595EnronEmailProject\\emails'):\n",
    "    for filename in filenames:\n",
    "        print(os.path.join(dirname, filename))\n",
    "\n",
    "# You can write up to 20GB to the current directory (/kaggle/working/) that gets preserved as output when you create a version using \"Save & Run All\" \n",
    "# You can also write temporary files to /kaggle/temp/, but they won't be saved outside of the current session"
   ]
  },
  {
   "cell_type": "code",
   "execution_count": 9,
   "metadata": {},
   "outputs": [],
   "source": [
    "import matplotlib.pyplot as plt\n",
    "from gensim.models import KeyedVectors\n",
    "from gensim.scripts.glove2word2vec import glove2word2vec\n",
    "import time\n",
    "from sklearn.preprocessing import LabelEncoder\n",
    "from sklearn.model_selection import train_test_split\n",
    "\n",
    "from tensorflow.keras.preprocessing.text import Tokenizer\n",
    "from tensorflow.keras.preprocessing.sequence import pad_sequences\n",
    "from tensorflow.keras.models import Sequential\n",
    "\n",
    "from tensorflow.keras.layers import Dense, LSTM, Flatten, Embedding\n",
    "from tensorflow.keras.utils import to_categorical\n",
    "from tensorflow.keras.backend import clear_session"
   ]
  },
  {
   "cell_type": "code",
   "execution_count": 10,
   "metadata": {},
   "outputs": [
    {
     "name": "stdout",
     "output_type": "stream",
     "text": [
      "Load time (seconds):  160.07946300506592\n"
     ]
    }
   ],
   "source": [
    "# load Google's pre-trained word2vec embeddings\n",
    "# filename = \"/kaggle/input/googlenewsvectorsnegative300/GoogleNews-vectors-negative300.bin\"\n",
    "filename = \".\\GoogleNews-vectors-negative300.bin\"\n",
    "\n",
    "start = time.time()\n",
    "google_embeddings = KeyedVectors.load_word2vec_format(filename, binary=True)\n",
    "\n",
    "print(\"Load time (seconds): \", (time.time() - start))"
   ]
  },
  {
   "cell_type": "code",
   "execution_count": 11,
   "metadata": {},
   "outputs": [
    {
     "data": {
      "text/plain": [
       "(400000, 300)"
      ]
     },
     "execution_count": 11,
     "metadata": {},
     "output_type": "execute_result"
    }
   ],
   "source": [
    "# load Stanford's pre-trained GloVe embeddings\n",
    "# glove_file = \"/kaggle/input/glove-embeddings/glove.6B.300d.txt\"\n",
    "glove_file = \".\\glove.6B.300d.txt\"\n",
    "glove_word2vec_file = \"glove.6B.100d.txt.word2vec\"\n",
    "\n",
    "glove2word2vec(glove_file, glove_word2vec_file)"
   ]
  },
  {
   "cell_type": "code",
   "execution_count": 12,
   "metadata": {},
   "outputs": [
    {
     "name": "stdout",
     "output_type": "stream",
     "text": [
      "Load time (seconds):  136.82092261314392\n"
     ]
    }
   ],
   "source": [
    "# glove embeddings\n",
    "start = time.time()\n",
    "\n",
    "glove_embeddings = KeyedVectors.load_word2vec_format(glove_word2vec_file, binary=False)\n",
    "\n",
    "print(\"Load time (seconds): \", (time.time() - start))"
   ]
  },
  {
   "cell_type": "code",
   "execution_count": 13,
   "metadata": {},
   "outputs": [
    {
     "data": {
      "text/html": [
       "<div>\n",
       "<style scoped>\n",
       "    .dataframe tbody tr th:only-of-type {\n",
       "        vertical-align: middle;\n",
       "    }\n",
       "\n",
       "    .dataframe tbody tr th {\n",
       "        vertical-align: top;\n",
       "    }\n",
       "\n",
       "    .dataframe thead th {\n",
       "        text-align: right;\n",
       "    }\n",
       "</style>\n",
       "<table border=\"1\" class=\"dataframe\">\n",
       "  <thead>\n",
       "    <tr style=\"text-align: right;\">\n",
       "      <th></th>\n",
       "      <th>X-Folder</th>\n",
       "      <th>text</th>\n",
       "    </tr>\n",
       "  </thead>\n",
       "  <tbody>\n",
       "    <tr>\n",
       "      <th>0</th>\n",
       "      <td>california</td>\n",
       "      <td>caiso notice summer 2001 generation rfb market...</td>\n",
       "    </tr>\n",
       "    <tr>\n",
       "      <th>1</th>\n",
       "      <td>california</td>\n",
       "      <td>ca iso cal px information related 2000 market ...</td>\n",
       "    </tr>\n",
       "    <tr>\n",
       "      <th>2</th>\n",
       "      <td>california</td>\n",
       "      <td>caiso notification update inter sc trades adju...</td>\n",
       "    </tr>\n",
       "    <tr>\n",
       "      <th>3</th>\n",
       "      <td>california</td>\n",
       "      <td>update mif meeting presentations iso website u...</td>\n",
       "    </tr>\n",
       "    <tr>\n",
       "      <th>4</th>\n",
       "      <td>california</td>\n",
       "      <td>mif presentations presentations market issues ...</td>\n",
       "    </tr>\n",
       "  </tbody>\n",
       "</table>\n",
       "</div>"
      ],
      "text/plain": [
       "     X-Folder                                               text\n",
       "0  california  caiso notice summer 2001 generation rfb market...\n",
       "1  california  ca iso cal px information related 2000 market ...\n",
       "2  california  caiso notification update inter sc trades adju...\n",
       "3  california  update mif meeting presentations iso website u...\n",
       "4  california  mif presentations presentations market issues ..."
      ]
     },
     "execution_count": 13,
     "metadata": {},
     "output_type": "execute_result"
    }
   ],
   "source": [
    "# load data\n",
    "data = pd.read_csv(\".\\preprocessed.csv\")\n",
    "\n",
    "# view first 5 rows of the dataframe 'data'\n",
    "data.head()"
   ]
  },
  {
   "cell_type": "code",
   "execution_count": 14,
   "metadata": {},
   "outputs": [
    {
     "data": {
      "text/plain": [
       "(13586, 2)"
      ]
     },
     "execution_count": 14,
     "metadata": {},
     "output_type": "execute_result"
    }
   ],
   "source": [
    "# shape of the data\n",
    "data.shape"
   ]
  },
  {
   "cell_type": "code",
   "execution_count": 15,
   "metadata": {},
   "outputs": [
    {
     "data": {
      "text/plain": [
       "array(['california', 'calendar', 'resumes', 'archives', 'junk file',\n",
       "       'ces', 'logistics', 'tufco', 'projects', 'online trading',\n",
       "       'management', 'esvl', 'ooc', 'corporate', 'tw-commercial group',\n",
       "       'genco-jv_ipo', 'junk', 'deal discrepancies', 'e-mail bin',\n",
       "       'bill williams iii'], dtype=object)"
      ]
     },
     "execution_count": 15,
     "metadata": {},
     "output_type": "execute_result"
    }
   ],
   "source": [
    "# count number of instances in each folder\n",
    "data['X-Folder'].unique()"
   ]
  },
  {
   "cell_type": "code",
   "execution_count": 16,
   "metadata": {},
   "outputs": [],
   "source": [
    "def label_encoder(data):\n",
    "    class_le = LabelEncoder()\n",
    "    # apply label encoder on the 'X-Folder' column\n",
    "    y = class_le.fit_transform(data['X-Folder'])\n",
    "    return y"
   ]
  },
  {
   "cell_type": "code",
   "execution_count": 17,
   "metadata": {},
   "outputs": [],
   "source": [
    "y = label_encoder(data)\n",
    "input_data = data['text']"
   ]
  },
  {
   "cell_type": "code",
   "execution_count": 18,
   "metadata": {},
   "outputs": [],
   "source": [
    "# split the data into training and test set\n",
    "X_train, X_test, y_train, y_test = train_test_split(input_data, y, test_size=0.1)"
   ]
  },
  {
   "cell_type": "code",
   "execution_count": 19,
   "metadata": {},
   "outputs": [],
   "source": [
    "# one-hot encode the output labels\n",
    "Y_train = to_categorical(y_train, 20)\n",
    "Y_test = to_categorical(y_test, 20)"
   ]
  },
  {
   "cell_type": "code",
   "execution_count": 20,
   "metadata": {},
   "outputs": [],
   "source": [
    "# prepare tokenizer\n",
    "t = Tokenizer()\n",
    "\n",
    "# fit the tokenizer on the docs\n",
    "t.fit_on_texts(input_data)\n",
    "vocab_size = len(t.word_index) + 1\n",
    "\n",
    "# integer encode the documents\n",
    "X_train_encoded_docs = t.texts_to_sequences(X_train)\n",
    "X_test_encoded_docs = t.texts_to_sequences(X_test)"
   ]
  },
  {
   "cell_type": "code",
   "execution_count": 21,
   "metadata": {},
   "outputs": [
    {
     "name": "stdout",
     "output_type": "stream",
     "text": [
      "[  378  1182   875  2586 53688    14    13  1912  1582   952    48   120\n",
      "  3565   292    35   450   342  2627   293  2168    35   896   491  3496\n",
      "    27  3707 33694  1261  2801   628   924   242   172  1536  1234   120\n",
      "   266  1293   334   338   172   491    42  2168    48    41  2351   395\n",
      "   266  1759  2612  1457   618  2064  5072  1700    36  1917  1642   699\n",
      "   395   266   293  4769  1800   334  1234   395   266  1156   830   699\n",
      "   746  4301    35  9434   107   628  4597  3955   796  1234   266   395\n",
      "    13   699   162  1554   619  2109   763   107   322  4803    13   162\n",
      "    65   155 53689  2015  4568  2015   162  3375   266  1088  1290 25433\n",
      "   241  1575  1020   595   582    14   297  2202  3955  1611  1170   619\n",
      "   753   753 53690  1913   252   247  2301  8200   695 11574  9386  6848\n",
      "  4398 53691  8150 17664 27809   283   237   753 16925     3    12    22\n",
      " 16925     3    12    22 16925     3]\n"
     ]
    }
   ],
   "source": [
    "# pad documents to a max length of 150 words\n",
    "max_length = 150\n",
    "X_train_padded_docs = pad_sequences(X_train_encoded_docs, maxlen=max_length, padding='post')\n",
    "X_test_padded_docs = pad_sequences(X_test_encoded_docs, maxlen=max_length, padding='post')\n",
    "\n",
    "print(X_train_padded_docs[0])"
   ]
  },
  {
   "cell_type": "code",
   "execution_count": 22,
   "metadata": {},
   "outputs": [],
   "source": [
    "# create a weight matrix for words in training docs\n",
    "embedding_matrix = np.zeros((vocab_size, 300))\n",
    "\n",
    "for word, i in t.word_index.items():\n",
    "    \n",
    "    try:\n",
    "        embedding_vector = google_embeddings[word]\n",
    "    \n",
    "        if embedding_vector is not None:\n",
    "            embedding_matrix[i] = embedding_vector \n",
    "    except:\n",
    "        pass"
   ]
  },
  {
   "cell_type": "code",
   "execution_count": 23,
   "metadata": {},
   "outputs": [
    {
     "name": "stdout",
     "output_type": "stream",
     "text": [
      "Model: \"sequential\"\n",
      "_________________________________________________________________\n",
      "Layer (type)                 Output Shape              Param #   \n",
      "=================================================================\n",
      "embedding (Embedding)        (None, 150, 300)          17877600  \n",
      "_________________________________________________________________\n",
      "lstm (LSTM)                  (None, 100)               160400    \n",
      "_________________________________________________________________\n",
      "flatten (Flatten)            (None, 100)               0         \n",
      "_________________________________________________________________\n",
      "dense (Dense)                (None, 20)                2020      \n",
      "=================================================================\n",
      "Total params: 18,040,020\n",
      "Trainable params: 162,420\n",
      "Non-trainable params: 17,877,600\n",
      "_________________________________________________________________\n"
     ]
    }
   ],
   "source": [
    "# define the model\n",
    "model = Sequential()\n",
    "e = Embedding(vocab_size, 300, weights=[embedding_matrix], input_length=max_length, trainable=False)\n",
    "model.add(e)\n",
    "model.add(LSTM(100, dropout=0.2))\n",
    "model.add(Flatten())\n",
    "model.add(Dense(20, activation='softmax'))\n",
    "\n",
    "\n",
    "# compile the model\n",
    "model.compile(optimizer='adam', loss='categorical_crossentropy', metrics=['accuracy'])\n",
    "\n",
    "# summarize the model\n",
    "model.summary()"
   ]
  },
  {
   "cell_type": "code",
   "execution_count": 24,
   "metadata": {},
   "outputs": [],
   "source": [
    "clear_session()"
   ]
  },
  {
   "cell_type": "code",
   "execution_count": 25,
   "metadata": {},
   "outputs": [
    {
     "name": "stdout",
     "output_type": "stream",
     "text": [
      "Epoch 1/60\n",
      "344/344 [==============================] - 61s 144ms/step - loss: 2.8982 - accuracy: 0.1110 - val_loss: 2.7494 - val_accuracy: 0.1701\n",
      "Epoch 2/60\n",
      "344/344 [==============================] - 43s 124ms/step - loss: 2.7405 - accuracy: 0.1672 - val_loss: 3.2564 - val_accuracy: 0.1047\n",
      "Epoch 3/60\n",
      "344/344 [==============================] - 44s 127ms/step - loss: 2.8733 - accuracy: 0.1269 - val_loss: 2.8401 - val_accuracy: 0.1284\n",
      "Epoch 4/60\n",
      "344/344 [==============================] - 44s 127ms/step - loss: 2.7821 - accuracy: 0.1473 - val_loss: 2.8188 - val_accuracy: 0.1333\n",
      "Epoch 5/60\n",
      "344/344 [==============================] - 44s 127ms/step - loss: 2.6886 - accuracy: 0.1851 - val_loss: 2.7470 - val_accuracy: 0.2142\n",
      "Epoch 6/60\n",
      "344/344 [==============================] - 44s 127ms/step - loss: 2.7864 - accuracy: 0.1621 - val_loss: 2.8317 - val_accuracy: 0.1145\n",
      "Epoch 7/60\n",
      "344/344 [==============================] - 44s 127ms/step - loss: 2.7456 - accuracy: 0.1698 - val_loss: 2.8102 - val_accuracy: 0.1398\n",
      "Epoch 8/60\n",
      "344/344 [==============================] - 44s 127ms/step - loss: 2.7151 - accuracy: 0.1735 - val_loss: 2.6159 - val_accuracy: 0.2036\n",
      "Epoch 9/60\n",
      "344/344 [==============================] - 45s 130ms/step - loss: 2.5464 - accuracy: 0.2189 - val_loss: 2.4126 - val_accuracy: 0.2666\n",
      "Epoch 10/60\n",
      "344/344 [==============================] - 45s 132ms/step - loss: 2.3260 - accuracy: 0.2902 - val_loss: 2.0708 - val_accuracy: 0.3508\n",
      "Epoch 11/60\n",
      "344/344 [==============================] - 44s 129ms/step - loss: 2.0037 - accuracy: 0.3863 - val_loss: 1.9659 - val_accuracy: 0.3900\n",
      "Epoch 12/60\n",
      "344/344 [==============================] - 47s 136ms/step - loss: 1.7501 - accuracy: 0.4596 - val_loss: 1.7404 - val_accuracy: 0.4628\n",
      "Epoch 13/60\n",
      "344/344 [==============================] - 46s 134ms/step - loss: 1.5611 - accuracy: 0.5269 - val_loss: 1.5220 - val_accuracy: 0.5274\n",
      "Epoch 14/60\n",
      "344/344 [==============================] - 47s 138ms/step - loss: 1.3482 - accuracy: 0.5846 - val_loss: 1.4135 - val_accuracy: 0.5732\n",
      "Epoch 15/60\n",
      "344/344 [==============================] - 44s 128ms/step - loss: 1.2253 - accuracy: 0.6208 - val_loss: 1.3752 - val_accuracy: 0.5756\n",
      "Epoch 16/60\n",
      "344/344 [==============================] - 44s 129ms/step - loss: 1.1264 - accuracy: 0.6453 - val_loss: 1.2499 - val_accuracy: 0.6165\n",
      "Epoch 17/60\n",
      "344/344 [==============================] - 46s 134ms/step - loss: 1.0241 - accuracy: 0.6799 - val_loss: 1.2357 - val_accuracy: 0.6222\n",
      "Epoch 18/60\n",
      "344/344 [==============================] - 44s 128ms/step - loss: 0.9409 - accuracy: 0.7003 - val_loss: 1.1996 - val_accuracy: 0.6337\n",
      "Epoch 19/60\n",
      "344/344 [==============================] - 44s 128ms/step - loss: 0.8882 - accuracy: 0.7239 - val_loss: 1.1536 - val_accuracy: 0.6435\n",
      "Epoch 20/60\n",
      "344/344 [==============================] - 45s 132ms/step - loss: 0.8426 - accuracy: 0.7305 - val_loss: 1.1383 - val_accuracy: 0.6582\n",
      "Epoch 21/60\n",
      "344/344 [==============================] - 44s 129ms/step - loss: 0.7808 - accuracy: 0.7552 - val_loss: 1.1717 - val_accuracy: 0.6607\n",
      "Epoch 22/60\n",
      "344/344 [==============================] - 44s 128ms/step - loss: 0.7703 - accuracy: 0.7504 - val_loss: 1.0980 - val_accuracy: 0.6729\n",
      "Epoch 23/60\n",
      "344/344 [==============================] - 44s 129ms/step - loss: 0.7336 - accuracy: 0.7634 - val_loss: 1.1116 - val_accuracy: 0.6574\n",
      "Epoch 24/60\n",
      "344/344 [==============================] - 44s 128ms/step - loss: 0.6709 - accuracy: 0.7810 - val_loss: 1.0901 - val_accuracy: 0.6795\n",
      "Epoch 25/60\n",
      "344/344 [==============================] - 44s 129ms/step - loss: 0.6484 - accuracy: 0.7868 - val_loss: 1.0774 - val_accuracy: 0.6942\n",
      "Epoch 26/60\n",
      "344/344 [==============================] - 47s 137ms/step - loss: 0.6018 - accuracy: 0.8000 - val_loss: 1.0339 - val_accuracy: 0.6885\n",
      "Epoch 27/60\n",
      "344/344 [==============================] - 46s 132ms/step - loss: 0.5696 - accuracy: 0.8085 - val_loss: 1.0589 - val_accuracy: 0.6926\n",
      "Epoch 28/60\n",
      "344/344 [==============================] - 45s 132ms/step - loss: 0.5299 - accuracy: 0.8246 - val_loss: 1.0705 - val_accuracy: 0.6901\n",
      "Epoch 29/60\n",
      "344/344 [==============================] - 45s 132ms/step - loss: 0.5395 - accuracy: 0.8242 - val_loss: 1.0859 - val_accuracy: 0.6868\n",
      "Epoch 30/60\n",
      "344/344 [==============================] - 45s 132ms/step - loss: 0.5059 - accuracy: 0.8309 - val_loss: 1.0494 - val_accuracy: 0.6966\n",
      "Epoch 31/60\n",
      "344/344 [==============================] - 46s 133ms/step - loss: 0.4472 - accuracy: 0.8506 - val_loss: 1.0214 - val_accuracy: 0.6975\n",
      "Epoch 32/60\n",
      "344/344 [==============================] - 46s 133ms/step - loss: 0.4434 - accuracy: 0.8465 - val_loss: 1.0609 - val_accuracy: 0.6934\n",
      "Epoch 33/60\n",
      "344/344 [==============================] - 45s 132ms/step - loss: 0.4163 - accuracy: 0.8634 - val_loss: 1.0478 - val_accuracy: 0.7114\n",
      "Epoch 34/60\n",
      "344/344 [==============================] - 46s 132ms/step - loss: 0.4069 - accuracy: 0.8618 - val_loss: 1.0443 - val_accuracy: 0.7204\n",
      "Epoch 35/60\n",
      "344/344 [==============================] - 45s 132ms/step - loss: 0.3639 - accuracy: 0.8807 - val_loss: 1.0459 - val_accuracy: 0.7122\n",
      "Epoch 36/60\n",
      "344/344 [==============================] - 45s 132ms/step - loss: 0.3638 - accuracy: 0.8804 - val_loss: 1.0588 - val_accuracy: 0.7261\n",
      "Epoch 37/60\n",
      "344/344 [==============================] - 45s 132ms/step - loss: 0.3568 - accuracy: 0.8816 - val_loss: 1.0863 - val_accuracy: 0.7155\n",
      "Epoch 38/60\n",
      "344/344 [==============================] - 45s 132ms/step - loss: 0.3289 - accuracy: 0.8919 - val_loss: 1.0853 - val_accuracy: 0.7024\n",
      "Epoch 39/60\n",
      "344/344 [==============================] - 46s 133ms/step - loss: 0.3296 - accuracy: 0.8897 - val_loss: 1.0762 - val_accuracy: 0.7228\n",
      "Epoch 40/60\n",
      "344/344 [==============================] - 46s 132ms/step - loss: 0.3015 - accuracy: 0.9007 - val_loss: 1.0767 - val_accuracy: 0.7261\n",
      "Epoch 41/60\n",
      "344/344 [==============================] - 45s 132ms/step - loss: 0.2925 - accuracy: 0.9020 - val_loss: 1.0700 - val_accuracy: 0.7146\n",
      "Epoch 42/60\n",
      "344/344 [==============================] - 46s 132ms/step - loss: 0.2841 - accuracy: 0.9031 - val_loss: 1.0822 - val_accuracy: 0.7204\n",
      "Epoch 43/60\n",
      "344/344 [==============================] - 46s 132ms/step - loss: 0.2667 - accuracy: 0.9083 - val_loss: 1.1188 - val_accuracy: 0.7220\n",
      "Epoch 44/60\n",
      "344/344 [==============================] - 46s 133ms/step - loss: 0.2364 - accuracy: 0.9213 - val_loss: 1.1197 - val_accuracy: 0.7236\n",
      "Epoch 45/60\n",
      "344/344 [==============================] - 47s 136ms/step - loss: 0.2400 - accuracy: 0.9165 - val_loss: 1.0928 - val_accuracy: 0.7220\n",
      "Epoch 46/60\n",
      "344/344 [==============================] - 46s 133ms/step - loss: 0.2210 - accuracy: 0.9269 - val_loss: 1.2024 - val_accuracy: 0.7294\n",
      "Epoch 47/60\n",
      "344/344 [==============================] - 46s 133ms/step - loss: 0.2304 - accuracy: 0.9238 - val_loss: 1.1154 - val_accuracy: 0.7359\n",
      "Epoch 48/60\n",
      "344/344 [==============================] - 47s 135ms/step - loss: 0.2098 - accuracy: 0.9281 - val_loss: 1.1412 - val_accuracy: 0.7228\n",
      "Epoch 49/60\n",
      "344/344 [==============================] - 46s 134ms/step - loss: 0.2225 - accuracy: 0.9289 - val_loss: 1.2221 - val_accuracy: 0.7261\n",
      "Epoch 50/60\n",
      "344/344 [==============================] - 46s 133ms/step - loss: 0.2053 - accuracy: 0.9262 - val_loss: 1.1859 - val_accuracy: 0.7302\n",
      "Epoch 51/60\n",
      "344/344 [==============================] - 45s 132ms/step - loss: 0.1973 - accuracy: 0.9300 - val_loss: 1.2395 - val_accuracy: 0.7212\n",
      "Epoch 52/60\n",
      "344/344 [==============================] - 47s 137ms/step - loss: 0.2014 - accuracy: 0.9282 - val_loss: 1.1381 - val_accuracy: 0.7253\n",
      "Epoch 53/60\n",
      "344/344 [==============================] - 47s 138ms/step - loss: 0.1961 - accuracy: 0.9300 - val_loss: 1.2118 - val_accuracy: 0.7171\n",
      "Epoch 54/60\n",
      "344/344 [==============================] - 51s 149ms/step - loss: 0.1778 - accuracy: 0.9337 - val_loss: 1.1679 - val_accuracy: 0.7318\n",
      "Epoch 55/60\n",
      "344/344 [==============================] - 51s 149ms/step - loss: 0.1757 - accuracy: 0.9389 - val_loss: 1.1507 - val_accuracy: 0.7212\n",
      "Epoch 56/60\n",
      "344/344 [==============================] - 60s 175ms/step - loss: 0.1724 - accuracy: 0.9369 - val_loss: 1.1516 - val_accuracy: 0.7326\n",
      "Epoch 57/60\n"
     ]
    },
    {
     "name": "stdout",
     "output_type": "stream",
     "text": [
      "344/344 [==============================] - 70s 204ms/step - loss: 0.1617 - accuracy: 0.9428 - val_loss: 1.2170 - val_accuracy: 0.7179\n",
      "Epoch 58/60\n",
      "344/344 [==============================] - 63s 183ms/step - loss: 0.1678 - accuracy: 0.9378 - val_loss: 1.2005 - val_accuracy: 0.7187\n",
      "Epoch 59/60\n",
      "344/344 [==============================] - 69s 200ms/step - loss: 0.1649 - accuracy: 0.9412 - val_loss: 1.2335 - val_accuracy: 0.7236\n",
      "Epoch 60/60\n",
      "344/344 [==============================] - 71s 208ms/step - loss: 0.1571 - accuracy: 0.9436 - val_loss: 1.2451 - val_accuracy: 0.7277\n"
     ]
    }
   ],
   "source": [
    "# train the model\n",
    "clear_session()\n",
    "history = model.fit(X_train_padded_docs, Y_train, epochs=60, verbose=1, validation_split=0.1)"
   ]
  },
  {
   "cell_type": "code",
   "execution_count": 26,
   "metadata": {},
   "outputs": [
    {
     "name": "stdout",
     "output_type": "stream",
     "text": [
      "43/43 [==============================] - 3s 67ms/step - loss: 1.2645 - accuracy: 0.7219\n",
      "Test Set: \n",
      " Loss: 1.264\n",
      " Accuracy: 0.722\n"
     ]
    }
   ],
   "source": [
    "# evaluate the model on the test set\n",
    "accr = model.evaluate(X_test_padded_docs, Y_test)\n",
    "print(\"Test Set: \\n Loss: {:0.3f}\\n Accuracy: {:0.3f}\".format(accr[0], accr[1]))"
   ]
  },
  {
   "cell_type": "code",
   "execution_count": 27,
   "metadata": {},
   "outputs": [
    {
     "data": {
      "image/png": "[encoded data removed]",
      "text/plain": [
       "<Figure size 432x288 with 1 Axes>"
      ]
     },
     "metadata": {
      "needs_background": "light"
     },
     "output_type": "display_data"
    }
   ],
   "source": [
    "# plot the loss\n",
    "plt.title(\"Word2Vec Loss\")\n",
    "plt.plot(history.history['loss'], label='train')\n",
    "plt.plot(history.history['val_loss'], label='validation')\n",
    "plt.legend()\n",
    "plt.show()"
   ]
  },
  {
   "cell_type": "code",
   "execution_count": 28,
   "metadata": {},
   "outputs": [
    {
     "data": {
      "image/png": "[encoded data removed]",
      "text/plain": [
       "<Figure size 432x288 with 1 Axes>"
      ]
     },
     "metadata": {
      "needs_background": "light"
     },
     "output_type": "display_data"
    }
   ],
   "source": [
    "# plot the accuracy\n",
    "plt.title(\"Word2Vec Accuracy\")\n",
    "plt.plot(history.history['accuracy'], label='train')\n",
    "plt.plot(history.history['val_accuracy'], label='validation')\n",
    "plt.legend()\n",
    "plt.xlabel('Epochs')\n",
    "plt.ylabel(\"Accuracy\")\n",
    "plt.show()"
   ]
  },
  {
   "cell_type": "code",
   "execution_count": 29,
   "metadata": {},
   "outputs": [],
   "source": [
    "# create a weight matrix for words in training docs\n",
    "embedding_matrix = np.zeros((vocab_size, 300))\n",
    "\n",
    "for word, i in t.word_index.items():\n",
    "    \n",
    "    try:\n",
    "        embedding_vector = glove_embeddings[word]\n",
    "    \n",
    "        if embedding_vector is not None:\n",
    "            embedding_matrix[i] = embedding_vector \n",
    "    except:\n",
    "        pass"
   ]
  },
  {
   "cell_type": "code",
   "execution_count": 30,
   "metadata": {},
   "outputs": [
    {
     "name": "stdout",
     "output_type": "stream",
     "text": [
      "Model: \"sequential\"\n",
      "_________________________________________________________________\n",
      "Layer (type)                 Output Shape              Param #   \n",
      "=================================================================\n",
      "embedding (Embedding)        (None, 150, 300)          17877600  \n",
      "_________________________________________________________________\n",
      "lstm (LSTM)                  (None, 100)               160400    \n",
      "_________________________________________________________________\n",
      "flatten (Flatten)            (None, 100)               0         \n",
      "_________________________________________________________________\n",
      "dense (Dense)                (None, 20)                2020      \n",
      "=================================================================\n",
      "Total params: 18,040,020\n",
      "Trainable params: 162,420\n",
      "Non-trainable params: 17,877,600\n",
      "_________________________________________________________________\n"
     ]
    }
   ],
   "source": [
    "# define the model\n",
    "model2 = Sequential()\n",
    "e = Embedding(vocab_size, 300, weights=[embedding_matrix], input_length=max_length, trainable=False)\n",
    "model2.add(e)\n",
    "model2.add(LSTM(100, dropout=0.2))\n",
    "model2.add(Flatten())\n",
    "model2.add(Dense(20, activation='softmax'))\n",
    "\n",
    "\n",
    "# compile the model\n",
    "model2.compile(optimizer='adam', loss='categorical_crossentropy', metrics=['accuracy'])\n",
    "\n",
    "# summarize the model\n",
    "model2.summary()"
   ]
  },
  {
   "cell_type": "code",
   "execution_count": 31,
   "metadata": {},
   "outputs": [
    {
     "name": "stdout",
     "output_type": "stream",
     "text": [
      "Epoch 1/60\n",
      "344/344 [==============================] - 81s 216ms/step - loss: 2.8582 - accuracy: 0.1199 - val_loss: 2.6643 - val_accuracy: 0.1521\n",
      "Epoch 2/60\n",
      "344/344 [==============================] - 68s 198ms/step - loss: 2.5973 - accuracy: 0.2088 - val_loss: 2.7743 - val_accuracy: 0.1611\n",
      "Epoch 3/60\n",
      "344/344 [==============================] - 76s 220ms/step - loss: 2.5833 - accuracy: 0.2143 - val_loss: 2.4477 - val_accuracy: 0.2478\n",
      "Epoch 4/60\n",
      "344/344 [==============================] - 73s 214ms/step - loss: 2.4674 - accuracy: 0.2455 - val_loss: 2.4358 - val_accuracy: 0.2347\n",
      "Epoch 5/60\n",
      "344/344 [==============================] - 79s 228ms/step - loss: 2.4066 - accuracy: 0.2567 - val_loss: 2.5777 - val_accuracy: 0.1856\n",
      "Epoch 6/60\n",
      "344/344 [==============================] - 77s 224ms/step - loss: 2.3955 - accuracy: 0.2570 - val_loss: 2.3550 - val_accuracy: 0.2633\n",
      "Epoch 7/60\n",
      "344/344 [==============================] - 78s 227ms/step - loss: 2.2677 - accuracy: 0.2925 - val_loss: 2.3323 - val_accuracy: 0.2527\n",
      "Epoch 8/60\n",
      "344/344 [==============================] - 80s 231ms/step - loss: 2.2750 - accuracy: 0.2922 - val_loss: 2.3903 - val_accuracy: 0.2535\n",
      "Epoch 9/60\n",
      "344/344 [==============================] - 78s 226ms/step - loss: 2.3457 - accuracy: 0.2707 - val_loss: 2.5620 - val_accuracy: 0.2085\n",
      "Epoch 10/60\n",
      "344/344 [==============================] - 79s 231ms/step - loss: 2.3180 - accuracy: 0.2852 - val_loss: 2.2746 - val_accuracy: 0.2674\n",
      "Epoch 11/60\n",
      "344/344 [==============================] - 80s 233ms/step - loss: 2.1678 - accuracy: 0.3217 - val_loss: 2.1443 - val_accuracy: 0.3164\n",
      "Epoch 12/60\n",
      "344/344 [==============================] - 82s 237ms/step - loss: 1.9808 - accuracy: 0.3818 - val_loss: 1.9253 - val_accuracy: 0.3933\n",
      "Epoch 13/60\n",
      "344/344 [==============================] - 79s 230ms/step - loss: 1.7994 - accuracy: 0.4457 - val_loss: 1.8297 - val_accuracy: 0.4317\n",
      "Epoch 14/60\n",
      "344/344 [==============================] - 82s 239ms/step - loss: 1.5611 - accuracy: 0.5204 - val_loss: 1.5272 - val_accuracy: 0.5217\n",
      "Epoch 15/60\n",
      "344/344 [==============================] - 80s 233ms/step - loss: 1.3016 - accuracy: 0.6001 - val_loss: 1.3203 - val_accuracy: 0.6051\n",
      "Epoch 16/60\n",
      "344/344 [==============================] - 81s 235ms/step - loss: 1.1028 - accuracy: 0.6602 - val_loss: 1.2145 - val_accuracy: 0.6304\n",
      "Epoch 17/60\n",
      "344/344 [==============================] - 82s 238ms/step - loss: 0.9956 - accuracy: 0.6921 - val_loss: 1.1507 - val_accuracy: 0.6558\n",
      "Epoch 18/60\n",
      "344/344 [==============================] - 80s 233ms/step - loss: 0.8963 - accuracy: 0.7184 - val_loss: 1.1043 - val_accuracy: 0.6582\n",
      "Epoch 19/60\n",
      "344/344 [==============================] - 81s 235ms/step - loss: 0.7905 - accuracy: 0.7479 - val_loss: 1.0389 - val_accuracy: 0.6893\n",
      "Epoch 20/60\n",
      "344/344 [==============================] - 79s 230ms/step - loss: 0.7246 - accuracy: 0.7729 - val_loss: 1.0270 - val_accuracy: 0.6836\n",
      "Epoch 21/60\n",
      "344/344 [==============================] - 79s 229ms/step - loss: 0.6480 - accuracy: 0.7970 - val_loss: 0.9617 - val_accuracy: 0.7220\n",
      "Epoch 22/60\n",
      "344/344 [==============================] - 78s 228ms/step - loss: 0.6193 - accuracy: 0.8085 - val_loss: 0.9733 - val_accuracy: 0.7146\n",
      "Epoch 23/60\n",
      "344/344 [==============================] - 80s 233ms/step - loss: 0.5632 - accuracy: 0.8236 - val_loss: 0.9544 - val_accuracy: 0.7171\n",
      "Epoch 24/60\n",
      "344/344 [==============================] - 81s 234ms/step - loss: 0.5043 - accuracy: 0.8425 - val_loss: 0.9603 - val_accuracy: 0.7318\n",
      "Epoch 25/60\n",
      "344/344 [==============================] - 80s 234ms/step - loss: 0.4844 - accuracy: 0.8445 - val_loss: 0.9318 - val_accuracy: 0.7343\n",
      "Epoch 26/60\n",
      "344/344 [==============================] - 81s 237ms/step - loss: 0.4259 - accuracy: 0.8676 - val_loss: 0.9563 - val_accuracy: 0.7294\n",
      "Epoch 27/60\n",
      "344/344 [==============================] - 81s 237ms/step - loss: 0.4112 - accuracy: 0.8675 - val_loss: 0.9569 - val_accuracy: 0.7294\n",
      "Epoch 28/60\n",
      "344/344 [==============================] - 81s 236ms/step - loss: 0.3794 - accuracy: 0.8800 - val_loss: 0.9935 - val_accuracy: 0.7228\n",
      "Epoch 29/60\n",
      "344/344 [==============================] - 79s 229ms/step - loss: 0.3569 - accuracy: 0.8871 - val_loss: 0.9423 - val_accuracy: 0.7326\n",
      "Epoch 30/60\n",
      "344/344 [==============================] - 80s 233ms/step - loss: 0.3230 - accuracy: 0.8969 - val_loss: 0.9318 - val_accuracy: 0.7253\n",
      "Epoch 31/60\n",
      "344/344 [==============================] - 80s 233ms/step - loss: 0.3168 - accuracy: 0.8929 - val_loss: 0.9254 - val_accuracy: 0.7563\n",
      "Epoch 32/60\n",
      "344/344 [==============================] - 81s 236ms/step - loss: 0.2939 - accuracy: 0.9082 - val_loss: 0.9769 - val_accuracy: 0.7457\n",
      "Epoch 33/60\n",
      "344/344 [==============================] - 72s 211ms/step - loss: 0.2663 - accuracy: 0.9140 - val_loss: 1.0114 - val_accuracy: 0.7351\n",
      "Epoch 34/60\n",
      "344/344 [==============================] - 75s 219ms/step - loss: 0.2679 - accuracy: 0.9172 - val_loss: 1.0110 - val_accuracy: 0.7351\n",
      "Epoch 35/60\n",
      "344/344 [==============================] - 80s 233ms/step - loss: 0.2594 - accuracy: 0.9137 - val_loss: 1.0195 - val_accuracy: 0.7490\n",
      "Epoch 36/60\n",
      "344/344 [==============================] - 78s 226ms/step - loss: 0.2454 - accuracy: 0.9144 - val_loss: 1.0169 - val_accuracy: 0.7285\n",
      "Epoch 37/60\n",
      "344/344 [==============================] - 78s 226ms/step - loss: 0.2229 - accuracy: 0.9234 - val_loss: 1.0233 - val_accuracy: 0.7490\n",
      "Epoch 38/60\n",
      "344/344 [==============================] - 77s 224ms/step - loss: 0.2055 - accuracy: 0.9282 - val_loss: 1.0394 - val_accuracy: 0.7433\n",
      "Epoch 39/60\n",
      "344/344 [==============================] - 78s 226ms/step - loss: 0.1932 - accuracy: 0.9313 - val_loss: 1.0385 - val_accuracy: 0.7522\n",
      "Epoch 40/60\n",
      "344/344 [==============================] - 78s 228ms/step - loss: 0.2078 - accuracy: 0.9274 - val_loss: 1.0040 - val_accuracy: 0.7465\n",
      "Epoch 41/60\n",
      "344/344 [==============================] - 77s 224ms/step - loss: 0.1854 - accuracy: 0.9365 - val_loss: 1.0111 - val_accuracy: 0.7522\n",
      "Epoch 42/60\n",
      "344/344 [==============================] - 76s 221ms/step - loss: 0.1899 - accuracy: 0.9324 - val_loss: 1.0366 - val_accuracy: 0.7506\n",
      "Epoch 43/60\n",
      "344/344 [==============================] - 78s 227ms/step - loss: 0.1771 - accuracy: 0.9395 - val_loss: 1.0752 - val_accuracy: 0.7408\n",
      "Epoch 44/60\n",
      "344/344 [==============================] - 78s 227ms/step - loss: 0.1709 - accuracy: 0.9436 - val_loss: 1.0742 - val_accuracy: 0.7563\n",
      "Epoch 45/60\n",
      "344/344 [==============================] - 79s 229ms/step - loss: 0.1721 - accuracy: 0.9347 - val_loss: 1.0431 - val_accuracy: 0.7596\n",
      "Epoch 46/60\n",
      "344/344 [==============================] - 79s 229ms/step - loss: 0.1567 - accuracy: 0.9451 - val_loss: 1.0812 - val_accuracy: 0.7482\n",
      "Epoch 47/60\n",
      "344/344 [==============================] - 79s 229ms/step - loss: 0.1550 - accuracy: 0.9431 - val_loss: 1.1009 - val_accuracy: 0.7498\n",
      "Epoch 48/60\n",
      "344/344 [==============================] - 78s 226ms/step - loss: 0.1469 - accuracy: 0.9492 - val_loss: 1.1134 - val_accuracy: 0.7506\n",
      "Epoch 49/60\n",
      "344/344 [==============================] - 77s 224ms/step - loss: 0.1390 - accuracy: 0.9508 - val_loss: 1.1044 - val_accuracy: 0.7531\n",
      "Epoch 50/60\n",
      "344/344 [==============================] - 77s 224ms/step - loss: 0.1491 - accuracy: 0.9434 - val_loss: 1.0864 - val_accuracy: 0.7580\n",
      "Epoch 51/60\n",
      "344/344 [==============================] - 77s 223ms/step - loss: 0.1345 - accuracy: 0.9510 - val_loss: 1.1250 - val_accuracy: 0.7555\n",
      "Epoch 52/60\n",
      "344/344 [==============================] - 81s 236ms/step - loss: 0.1355 - accuracy: 0.9496 - val_loss: 1.1289 - val_accuracy: 0.7604\n",
      "Epoch 53/60\n",
      "344/344 [==============================] - 77s 225ms/step - loss: 0.1322 - accuracy: 0.9530 - val_loss: 1.1160 - val_accuracy: 0.7563\n",
      "Epoch 54/60\n",
      "344/344 [==============================] - 77s 223ms/step - loss: 0.1242 - accuracy: 0.9546 - val_loss: 1.2434 - val_accuracy: 0.7457\n",
      "Epoch 55/60\n",
      "344/344 [==============================] - 79s 230ms/step - loss: 0.1380 - accuracy: 0.9482 - val_loss: 1.1713 - val_accuracy: 0.7465\n",
      "Epoch 56/60\n",
      "344/344 [==============================] - 78s 226ms/step - loss: 0.1252 - accuracy: 0.9554 - val_loss: 1.1573 - val_accuracy: 0.7555\n",
      "Epoch 57/60\n"
     ]
    },
    {
     "name": "stdout",
     "output_type": "stream",
     "text": [
      "344/344 [==============================] - 77s 223ms/step - loss: 0.1274 - accuracy: 0.9517 - val_loss: 1.1977 - val_accuracy: 0.7547\n",
      "Epoch 58/60\n",
      "344/344 [==============================] - 75s 220ms/step - loss: 0.1278 - accuracy: 0.9520 - val_loss: 1.1683 - val_accuracy: 0.7522\n",
      "Epoch 59/60\n",
      "344/344 [==============================] - 73s 213ms/step - loss: 0.1187 - accuracy: 0.9564 - val_loss: 1.2321 - val_accuracy: 0.7482\n",
      "Epoch 60/60\n",
      "344/344 [==============================] - 64s 185ms/step - loss: 0.1337 - accuracy: 0.9499 - val_loss: 1.2019 - val_accuracy: 0.7531\n"
     ]
    }
   ],
   "source": [
    "# fit the model\n",
    "history2 = model2.fit(X_train_padded_docs, Y_train, epochs=60, verbose=1, validation_split=0.1)"
   ]
  },
  {
   "cell_type": "code",
   "execution_count": 32,
   "metadata": {},
   "outputs": [
    {
     "name": "stdout",
     "output_type": "stream",
     "text": [
      "43/43 [==============================] - 2s 42ms/step - loss: 1.2158 - accuracy: 0.7476\n",
      "Test Set: \n",
      " Loss: 1.216\n",
      " Accuracy: 0.748\n"
     ]
    }
   ],
   "source": [
    "# evaluate the model2 on the test set\n",
    "accr2 = model2.evaluate(X_test_padded_docs, Y_test)\n",
    "print(\"Test Set: \\n Loss: {:0.3f}\\n Accuracy: {:0.3f}\".format(accr2[0], accr2[1]))"
   ]
  },
  {
   "cell_type": "code",
   "execution_count": 33,
   "metadata": {},
   "outputs": [
    {
     "data": {
      "image/png": "[encoded data removed]",
      "text/plain": [
       "<Figure size 432x288 with 1 Axes>"
      ]
     },
     "metadata": {
      "needs_background": "light"
     },
     "output_type": "display_data"
    }
   ],
   "source": [
    "# plot the loss\n",
    "plt.title(\"Glove Word2Vec Loss\")\n",
    "plt.plot(history2.history['loss'], label='train')\n",
    "plt.plot(history2.history['val_loss'], label='validation')\n",
    "plt.legend()\n",
    "plt.xlabel(\"Epochs\")\n",
    "plt.ylabel(\"loss\")\n",
    "plt.show()"
   ]
  },
  {
   "cell_type": "code",
   "execution_count": 34,
   "metadata": {},
   "outputs": [
    {
     "data": {
      "image/png": "[encoded data removed]",
      "text/plain": [
       "<Figure size 432x288 with 1 Axes>"
      ]
     },
     "metadata": {
      "needs_background": "light"
     },
     "output_type": "display_data"
    }
   ],
   "source": [
    "# plot the accuracy\n",
    "plt.title(\"GloVe Word2Vec Accuracy\")\n",
    "plt.plot(history2.history['accuracy'], label='train')\n",
    "plt.plot(history2.history['val_accuracy'], label='validation')\n",
    "plt.legend()\n",
    "plt.xlabel('Epochs')\n",
    "plt.ylabel(\"Accuracy\")\n",
    "plt.show()"
   ]
  },
  {
   "cell_type": "code",
   "execution_count": 35,
   "metadata": {},
   "outputs": [
    {
     "name": "stdout",
     "output_type": "stream",
     "text": [
      "Model: \"sequential_1\"\n",
      "_________________________________________________________________\n",
      "Layer (type)                 Output Shape              Param #   \n",
      "=================================================================\n",
      "embedding_1 (Embedding)      (None, 150, 300)          17877600  \n",
      "_________________________________________________________________\n",
      "lstm_1 (LSTM)                (None, 100)               160400    \n",
      "_________________________________________________________________\n",
      "flatten_1 (Flatten)          (None, 100)               0         \n",
      "_________________________________________________________________\n",
      "dense_1 (Dense)              (None, 20)                2020      \n",
      "=================================================================\n",
      "Total params: 18,040,020\n",
      "Trainable params: 18,040,020\n",
      "Non-trainable params: 0\n",
      "_________________________________________________________________\n"
     ]
    }
   ],
   "source": [
    "# define the model\n",
    "model3 = Sequential()\n",
    "model3.add(Embedding(vocab_size, 300, input_length=max_length))\n",
    "model3.add(LSTM(100, dropout=0.4))\n",
    "model3.add(Flatten())\n",
    "model3.add(Dense(20, activation='softmax'))\n",
    "\n",
    "# compile the model\n",
    "model3.compile(optimizer='adam', loss='categorical_crossentropy', metrics=['accuracy'])\n",
    "\n",
    "# summarize the model\n",
    "model3.summary()"
   ]
  },
  {
   "cell_type": "code",
   "execution_count": 36,
   "metadata": {},
   "outputs": [
    {
     "name": "stdout",
     "output_type": "stream",
     "text": [
      "Epoch 1/20\n",
      "344/344 [==============================] - 221s 624ms/step - loss: 2.9038 - accuracy: 0.1170 - val_loss: 2.7291 - val_accuracy: 0.1545\n",
      "Epoch 2/20\n",
      "344/344 [==============================] - 229s 666ms/step - loss: 2.6553 - accuracy: 0.1826 - val_loss: 2.5602 - val_accuracy: 0.2011\n",
      "Epoch 3/20\n",
      "344/344 [==============================] - 238s 693ms/step - loss: 2.4880 - accuracy: 0.2469 - val_loss: 2.4063 - val_accuracy: 0.2461\n",
      "Epoch 4/20\n",
      "344/344 [==============================] - 233s 678ms/step - loss: 2.2257 - accuracy: 0.3359 - val_loss: 2.3030 - val_accuracy: 0.3295\n",
      "Epoch 5/20\n",
      "344/344 [==============================] - 233s 677ms/step - loss: 1.9052 - accuracy: 0.4217 - val_loss: 1.9524 - val_accuracy: 0.4031\n",
      "Epoch 6/20\n",
      "344/344 [==============================] - 227s 661ms/step - loss: 1.8359 - accuracy: 0.4362 - val_loss: 1.9063 - val_accuracy: 0.4227\n",
      "Epoch 7/20\n",
      "344/344 [==============================] - 256s 743ms/step - loss: 1.6388 - accuracy: 0.4869 - val_loss: 1.7483 - val_accuracy: 0.4832\n",
      "Epoch 8/20\n",
      "344/344 [==============================] - 254s 738ms/step - loss: 1.3302 - accuracy: 0.5876 - val_loss: 1.4452 - val_accuracy: 0.5936\n",
      "Epoch 9/20\n",
      "344/344 [==============================] - 261s 758ms/step - loss: 1.0412 - accuracy: 0.6840 - val_loss: 1.2720 - val_accuracy: 0.6402\n",
      "Epoch 10/20\n",
      "344/344 [==============================] - 263s 764ms/step - loss: 0.7374 - accuracy: 0.7837 - val_loss: 1.2688 - val_accuracy: 0.6672\n",
      "Epoch 11/20\n",
      "344/344 [==============================] - 257s 746ms/step - loss: 0.5813 - accuracy: 0.8322 - val_loss: 1.1359 - val_accuracy: 0.6942\n",
      "Epoch 12/20\n",
      "344/344 [==============================] - 248s 721ms/step - loss: 0.4561 - accuracy: 0.8653 - val_loss: 1.1408 - val_accuracy: 0.7032\n",
      "Epoch 13/20\n",
      "344/344 [==============================] - 255s 740ms/step - loss: 0.3545 - accuracy: 0.8923 - val_loss: 1.1314 - val_accuracy: 0.7089\n",
      "Epoch 14/20\n",
      "344/344 [==============================] - 253s 735ms/step - loss: 0.3071 - accuracy: 0.9052 - val_loss: 1.1153 - val_accuracy: 0.7310\n",
      "Epoch 15/20\n",
      "344/344 [==============================] - 263s 766ms/step - loss: 0.2402 - accuracy: 0.9253 - val_loss: 1.1272 - val_accuracy: 0.7269\n",
      "Epoch 16/20\n",
      "344/344 [==============================] - 246s 715ms/step - loss: 0.2123 - accuracy: 0.9367 - val_loss: 1.1092 - val_accuracy: 0.7457\n",
      "Epoch 17/20\n",
      "344/344 [==============================] - 249s 724ms/step - loss: 0.1747 - accuracy: 0.9444 - val_loss: 1.2297 - val_accuracy: 0.7065\n",
      "Epoch 18/20\n",
      "344/344 [==============================] - 258s 750ms/step - loss: 0.1805 - accuracy: 0.9433 - val_loss: 1.1567 - val_accuracy: 0.7375\n",
      "Epoch 19/20\n",
      "344/344 [==============================] - 259s 752ms/step - loss: 0.1355 - accuracy: 0.9582 - val_loss: 1.1817 - val_accuracy: 0.7343\n",
      "Epoch 20/20\n",
      "344/344 [==============================] - 261s 758ms/step - loss: 0.1211 - accuracy: 0.9574 - val_loss: 1.2219 - val_accuracy: 0.7343\n"
     ]
    }
   ],
   "source": [
    "# train the model\n",
    "history3 = model3.fit(X_train_padded_docs, Y_train, validation_split=0.1, epochs=20, verbose=1)"
   ]
  },
  {
   "cell_type": "code",
   "execution_count": 37,
   "metadata": {},
   "outputs": [],
   "source": [
    "# save learned word embeddings\n",
    "own_embeddings = model3.get_layer('embedding_1').get_weights()[0]\n",
    "\n",
    "custom_w2v = {}\n",
    "\n",
    "for word, index in t.word_index.items():\n",
    "    custom_w2v[word] = own_embeddings[index]\n",
    "    \n",
    "import pickle    \n",
    "# save to file\n",
    "with open(\"own_embeddings.pkl\", \"wb\") as handle:\n",
    "    pickle.dump(custom_w2v, handle, protocol=pickle.HIGHEST_PROTOCOL)"
   ]
  },
  {
   "cell_type": "code",
   "execution_count": 38,
   "metadata": {},
   "outputs": [],
   "source": [
    "# load own_embeddings\n",
    "#with open(\"own_embeddings.pkl\", \"rb\") as handle:\n",
    " #   own_embeddings = pickle.load(handle)"
   ]
  },
  {
   "cell_type": "code",
   "execution_count": 39,
   "metadata": {},
   "outputs": [
    {
     "name": "stdout",
     "output_type": "stream",
     "text": [
      "43/43 [==============================] - 3s 79ms/step - loss: 1.2080 - accuracy: 0.7417\n",
      "Test Set:\n",
      "  Loss: 1.208\n",
      "   Accuracy: 0.742\n"
     ]
    }
   ],
   "source": [
    "# evaluate the model\n",
    "accr3 = model3.evaluate(X_test_padded_docs, Y_test)\n",
    "\n",
    "print(\"Test Set:\\n  Loss: {:0.3f}\\n   Accuracy: {:0.3f}\".format(accr3[0], accr3[1]))"
   ]
  },
  {
   "cell_type": "code",
   "execution_count": 40,
   "metadata": {},
   "outputs": [
    {
     "data": {
      "image/png": "[encoded data removed]",
      "text/plain": [
       "<Figure size 432x288 with 1 Axes>"
      ]
     },
     "metadata": {
      "needs_background": "light"
     },
     "output_type": "display_data"
    }
   ],
   "source": [
    "# plot the loss\n",
    "plt.title(\"Loss\")\n",
    "plt.plot(history3.history['loss'], label='train')\n",
    "plt.plot(history3.history['val_loss'], label='validation')\n",
    "plt.legend()\n",
    "plt.xlabel(\"Epochs\")\n",
    "plt.ylabel(\"loss\")\n",
    "plt.show()"
   ]
  },
  {
   "cell_type": "code",
   "execution_count": 41,
   "metadata": {},
   "outputs": [
    {
     "data": {
      "image/png": "[encoded data removed]",
      "text/plain": [
       "<Figure size 432x288 with 1 Axes>"
      ]
     },
     "metadata": {
      "needs_background": "light"
     },
     "output_type": "display_data"
    }
   ],
   "source": [
    "# plot the accuracy\n",
    "plt.title(\"Accuracy\")\n",
    "plt.plot(history3.history['accuracy'], label='train')\n",
    "plt.plot(history3.history['val_accuracy'], label='validation')\n",
    "plt.legend()\n",
    "plt.xlabel('Epochs')\n",
    "plt.ylabel(\"Accuracy\")\n",
    "plt.show()"
   ]
  },
  {
   "cell_type": "code",
   "execution_count": 42,
   "metadata": {},
   "outputs": [
    {
     "data": {
      "text/html": [
       "<div>\n",
       "<style scoped>\n",
       "    .dataframe tbody tr th:only-of-type {\n",
       "        vertical-align: middle;\n",
       "    }\n",
       "\n",
       "    .dataframe tbody tr th {\n",
       "        vertical-align: top;\n",
       "    }\n",
       "\n",
       "    .dataframe thead th {\n",
       "        text-align: right;\n",
       "    }\n",
       "</style>\n",
       "<table border=\"1\" class=\"dataframe\">\n",
       "  <thead>\n",
       "    <tr style=\"text-align: right;\">\n",
       "      <th></th>\n",
       "      <th>Technique</th>\n",
       "      <th>test accuracy</th>\n",
       "    </tr>\n",
       "  </thead>\n",
       "  <tbody>\n",
       "    <tr>\n",
       "      <th>0</th>\n",
       "      <td>Word2Vec</td>\n",
       "      <td>0.721854</td>\n",
       "    </tr>\n",
       "    <tr>\n",
       "      <th>1</th>\n",
       "      <td>GloVe</td>\n",
       "      <td>0.747609</td>\n",
       "    </tr>\n",
       "    <tr>\n",
       "      <th>2</th>\n",
       "      <td>Training data Embeddings</td>\n",
       "      <td>0.741722</td>\n",
       "    </tr>\n",
       "  </tbody>\n",
       "</table>\n",
       "</div>"
      ],
      "text/plain": [
       "                  Technique  test accuracy\n",
       "0                  Word2Vec       0.721854\n",
       "1                     GloVe       0.747609\n",
       "2  Training data Embeddings       0.741722"
      ]
     },
     "execution_count": 42,
     "metadata": {},
     "output_type": "execute_result"
    }
   ],
   "source": [
    "# create a dataframe to store results\n",
    "res_data = {\n",
    "    \"Technique\": ['Word2Vec', 'GloVe', 'Training data Embeddings'],\n",
    "    \"test accuracy\": [accr[1], accr2[1], accr3[1]]\n",
    "}\n",
    "result = pd.DataFrame(res_data)\n",
    "result"
   ]
  },
  {
   "cell_type": "code",
   "execution_count": 43,
   "metadata": {},
   "outputs": [
    {
     "data": {
      "text/plain": [
       "(13586, 2)"
      ]
     },
     "execution_count": 43,
     "metadata": {},
     "output_type": "execute_result"
    }
   ],
   "source": [
    "data.shape"
   ]
  },
  {
   "cell_type": "code",
   "execution_count": null,
   "metadata": {},
   "outputs": [],
   "source": []
  },
  {
   "cell_type": "code",
   "execution_count": null,
   "metadata": {},
   "outputs": [],
   "source": []
  }
 ],
 "metadata": {
  "kernelspec": {
   "display_name": "Python 3",
   "language": "python",
   "name": "python3"
  },
  "language_info": {
   "codemirror_mode": {
    "name": "ipython",
    "version": 3
   },
   "file_extension": ".py",
   "mimetype": "text/x-python",
   "name": "python",
   "nbconvert_exporter": "python",
   "pygments_lexer": "ipython3",
   "version": "3.8.5"
  }
 },
 "nbformat": 4,
 "nbformat_minor": 5
}
