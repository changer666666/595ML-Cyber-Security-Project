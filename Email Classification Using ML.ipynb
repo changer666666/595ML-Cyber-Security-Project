{
 "cells": [
  {
   "cell_type": "code",
   "execution_count": 1,
   "metadata": {},
   "outputs": [
    {
     "name": "stdout",
     "output_type": "stream",
     "text": [
      "E:\\EEP595EnronEmailProject\\emails\\emails.csv\n"
     ]
    }
   ],
   "source": [
    "# This Python 3 environment comes with many helpful analytics libraries installed\n",
    "# It is defined by the kaggle/python Docker image: https://github.com/kaggle/docker-python\n",
    "# For example, here's several helpful packages to load\n",
    "\n",
    "import numpy as np # linear algebra\n",
    "import pandas as pd # data processing, CSV file I/O (e.g. pd.read_csv)\n",
    "\n",
    "# Input data files are available in the read-only \"../input/\" directory\n",
    "# For example, running this (by clicking run or pressing Shift+Enter) will list all files under the input directory\n",
    "\n",
    "import os\n",
    "for dirname, _, filenames in os.walk('E:\\EEP595EnronEmailProject\\emails'):\n",
    "    for filename in filenames:\n",
    "        print(os.path.join(dirname, filename))\n",
    "\n",
    "# You can write up to 20GB to the current directory (/kaggle/working/) that gets preserved as output when you create a version using \"Save & Run All\" \n",
    "# You can also write temporary files to /kaggle/temp/, but they won't be saved outside of the current session"
   ]
  },
  {
   "cell_type": "code",
   "execution_count": 2,
   "metadata": {},
   "outputs": [],
   "source": [
    "import matplotlib.pyplot as plt\n",
    "import re\n",
    "import string\n",
    "import time\n",
    "pd.set_option('display.max_rows', 50)\n",
    "\n",
    "from nltk.corpus import stopwords\n",
    "stop = stopwords.words('english')\n",
    "\n",
    "from sklearn.preprocessing import LabelEncoder\n",
    "from sklearn.feature_extraction.text import CountVectorizer\n",
    "from sklearn.feature_extraction.text import TfidfVectorizer\n",
    "from sklearn.model_selection import cross_validate\n",
    "\n",
    "from sklearn.naive_bayes import MultinomialNB, GaussianNB\n",
    "from sklearn.tree import DecisionTreeClassifier\n",
    "from sklearn.svm import LinearSVC\n",
    "from sklearn.ensemble import AdaBoostClassifier\n",
    "from sklearn.neural_network import MLPClassifier"
   ]
  },
  {
   "cell_type": "code",
   "execution_count": 3,
   "metadata": {},
   "outputs": [
    {
     "data": {
      "text/html": [
       "<div>\n",
       "<style scoped>\n",
       "    .dataframe tbody tr th:only-of-type {\n",
       "        vertical-align: middle;\n",
       "    }\n",
       "\n",
       "    .dataframe tbody tr th {\n",
       "        vertical-align: top;\n",
       "    }\n",
       "\n",
       "    .dataframe thead th {\n",
       "        text-align: right;\n",
       "    }\n",
       "</style>\n",
       "<table border=\"1\" class=\"dataframe\">\n",
       "  <thead>\n",
       "    <tr style=\"text-align: right;\">\n",
       "      <th></th>\n",
       "      <th>subject</th>\n",
       "      <th>X-Folder</th>\n",
       "      <th>body</th>\n",
       "    </tr>\n",
       "  </thead>\n",
       "  <tbody>\n",
       "    <tr>\n",
       "      <td>0</td>\n",
       "      <td>Re:</td>\n",
       "      <td>'sent mail</td>\n",
       "      <td>Traveling to have a business meeting takes the...</td>\n",
       "    </tr>\n",
       "    <tr>\n",
       "      <td>1</td>\n",
       "      <td>Re: test</td>\n",
       "      <td>'sent mail</td>\n",
       "      <td>test successful.  way to go!!!</td>\n",
       "    </tr>\n",
       "    <tr>\n",
       "      <td>2</td>\n",
       "      <td>Re: Hello</td>\n",
       "      <td>'sent mail</td>\n",
       "      <td>Let's shoot for Tuesday at 11:45.</td>\n",
       "    </tr>\n",
       "    <tr>\n",
       "      <td>3</td>\n",
       "      <td>Re: Hello</td>\n",
       "      <td>'sent mail</td>\n",
       "      <td>Greg,\\n\\n How about either next Tuesday or Thu...</td>\n",
       "    </tr>\n",
       "    <tr>\n",
       "      <td>4</td>\n",
       "      <td>Re: PRC review - phone calls</td>\n",
       "      <td>'sent mail</td>\n",
       "      <td>any morning between 10 and 11:30</td>\n",
       "    </tr>\n",
       "  </tbody>\n",
       "</table>\n",
       "</div>"
      ],
      "text/plain": [
       "                        subject    X-Folder  \\\n",
       "0                           Re:  'sent mail   \n",
       "1                      Re: test  'sent mail   \n",
       "2                     Re: Hello  'sent mail   \n",
       "3                     Re: Hello  'sent mail   \n",
       "4  Re: PRC review - phone calls  'sent mail   \n",
       "\n",
       "                                                body  \n",
       "0  Traveling to have a business meeting takes the...  \n",
       "1                     test successful.  way to go!!!  \n",
       "2                Let's shoot for Tuesday at 11:45.    \n",
       "3  Greg,\\n\\n How about either next Tuesday or Thu...  \n",
       "4                   any morning between 10 and 11:30  "
      ]
     },
     "execution_count": 3,
     "metadata": {},
     "output_type": "execute_result"
    }
   ],
   "source": [
    "df = pd.read_csv(\".\\cleaned_data.csv\")\n",
    "\n",
    "# view first 5 rows of the dataframe\n",
    "df.head()"
   ]
  },
  {
   "cell_type": "code",
   "execution_count": 4,
   "metadata": {},
   "outputs": [],
   "source": [
    "def remove_folders(emails, n):\n",
    "    # returns the number of folders containing more than 'n' number of emails\n",
    "    email_count = dict(df['X-Folder'].value_counts())\n",
    "    small_folders = [key for key, val in email_count.items() if val<=n]\n",
    "    emails = df.loc[~df['X-Folder'].isin(small_folders)]\n",
    "    return emails"
   ]
  },
  {
   "cell_type": "code",
   "execution_count": 5,
   "metadata": {},
   "outputs": [],
   "source": [
    "n = 150\n",
    "df = remove_folders(df, n)"
   ]
  },
  {
   "cell_type": "code",
   "execution_count": 6,
   "metadata": {},
   "outputs": [
    {
     "name": "stdout",
     "output_type": "stream",
     "text": [
      "Total folders:  82\n",
      "df.shape:  (460141, 3)\n"
     ]
    }
   ],
   "source": [
    "print(\"Total folders: \", len(df['X-Folder'].unique()))\n",
    "print(\"df.shape: \", df.shape)"
   ]
  },
  {
   "cell_type": "code",
   "execution_count": 7,
   "metadata": {},
   "outputs": [],
   "source": [
    "df['text'] = df['subject'] + \" \" + df['body']"
   ]
  },
  {
   "cell_type": "code",
   "execution_count": 8,
   "metadata": {},
   "outputs": [],
   "source": [
    "# drop the columns 'subject' and 'body'\n",
    "df.drop(['subject','body'], axis=1, inplace=True)"
   ]
  },
  {
   "cell_type": "code",
   "execution_count": 9,
   "metadata": {},
   "outputs": [],
   "source": [
    "def preprocess(x):\n",
    "    # lowercasing all the words\n",
    "    x = x.lower()\n",
    "    \n",
    "    # remove extra new lines\n",
    "    x = re.sub(r'\\n+', ' ', x)\n",
    "    \n",
    "    # removing (replacing with empty spaces actually) all the punctuations\n",
    "    x = re.sub(\"[\"+string.punctuation+\"]\", \" \", x)\n",
    "    \n",
    "    # remove extra white spaces\n",
    "    x = re.sub(r'\\s+', ' ', x)\n",
    "    \n",
    "    return x"
   ]
  },
  {
   "cell_type": "code",
   "execution_count": 10,
   "metadata": {},
   "outputs": [
    {
     "name": "stdout",
     "output_type": "stream",
     "text": [
      "Execution time (sec):  314.1476950645447\n"
     ]
    }
   ],
   "source": [
    "start = time.time()\n",
    "df.loc[:,'text'] = df.loc[:, 'text'].map(preprocess)\n",
    "\n",
    "# remove stopwords\n",
    "df.loc[:, 'text'] = df.loc[:, 'text'].apply(lambda x: ' '.join([word for word in x.split() if word not in stop]))\n",
    "end = time.time()\n",
    "print(\"Execution time (sec): \",(end - start))"
   ]
  },
  {
   "cell_type": "code",
   "execution_count": 20,
   "metadata": {},
   "outputs": [
    {
     "name": "stdout",
     "output_type": "stream",
     "text": [
      "Execution time (sec):  0.07878589630126953\n"
     ]
    }
   ],
   "source": [
    "start = time.time()\n",
    "folders_dict = dict(df['X-Folder'].value_counts().sort_values()[50:70])\n",
    "data = df[df['X-Folder'].isin(folders_dict.keys())]\n",
    "end = time.time()\n",
    "print(\"Execution time (sec): \",(end - start))"
   ]
  },
  {
   "cell_type": "code",
   "execution_count": 21,
   "metadata": {},
   "outputs": [
    {
     "name": "stdout",
     "output_type": "stream",
     "text": [
      "Number of instances:  13586\n"
     ]
    }
   ],
   "source": [
    "# check number of rows in the 'data' dataframe\n",
    "print(\"Number of instances: \", data.shape[0])\n",
    "data.to_csv('preprocessed.csv', index=False)"
   ]
  },
  {
   "cell_type": "code",
   "execution_count": 22,
   "metadata": {},
   "outputs": [],
   "source": [
    "data = pd.read_csv(\"preprocessed.csv\")"
   ]
  },
  {
   "cell_type": "code",
   "execution_count": 23,
   "metadata": {},
   "outputs": [
    {
     "data": {
      "text/plain": [
       "logistics              1170\n",
       "tw-commercial group    1150\n",
       "california             1014\n",
       "bill williams iii      1004\n",
       "deal discrepancies      878\n",
       "management              799\n",
       "calendar                700\n",
       "esvl                    663\n",
       "tufco                   604\n",
       "resumes                 599\n",
       "e-mail bin              592\n",
       "ces                     572\n",
       "online trading          567\n",
       "junk                    544\n",
       "junk file               494\n",
       "ooc                     473\n",
       "genco-jv_ipo            465\n",
       "projects                459\n",
       "corporate               420\n",
       "archives                419\n",
       "Name: X-Folder, dtype: int64"
      ]
     },
     "execution_count": 23,
     "metadata": {},
     "output_type": "execute_result"
    }
   ],
   "source": [
    "data['X-Folder'].value_counts()"
   ]
  },
  {
   "cell_type": "code",
   "execution_count": 24,
   "metadata": {},
   "outputs": [],
   "source": [
    "def label_encoder(data):\n",
    "    class_le = LabelEncoder()\n",
    "    # apply label encoder on the 'X-Folder' column\n",
    "    y = class_le.fit_transform(data['X-Folder'])\n",
    "    return y"
   ]
  },
  {
   "cell_type": "code",
   "execution_count": 25,
   "metadata": {},
   "outputs": [],
   "source": [
    "y = label_encoder(data)\n",
    "input_data = data['text']"
   ]
  },
  {
   "cell_type": "code",
   "execution_count": 26,
   "metadata": {},
   "outputs": [
    {
     "name": "stdout",
     "output_type": "stream",
     "text": [
      "Execution time (sec):  1.8430697917938232\n"
     ]
    }
   ],
   "source": [
    "start = time.time()\n",
    "vectorizer = CountVectorizer(min_df=5, max_features=5000)\n",
    "X = vectorizer.fit_transform(input_data)\n",
    "end = time.time()\n",
    "print(\"Execution time (sec): \",(end - start))"
   ]
  },
  {
   "cell_type": "code",
   "execution_count": 27,
   "metadata": {},
   "outputs": [
    {
     "name": "stdout",
     "output_type": "stream",
     "text": [
      "X.shape:  (13586, 5000)\n",
      "Execution time (sec):  0.18051910400390625\n"
     ]
    }
   ],
   "source": [
    "start = time.time()\n",
    "X = X.toarray()\n",
    "print(\"X.shape: \",X.shape)\n",
    "end = time.time()\n",
    "print(\"Execution time (sec): \",(end - start))"
   ]
  },
  {
   "cell_type": "code",
   "execution_count": 28,
   "metadata": {},
   "outputs": [
    {
     "data": {
      "text/html": [
       "<div>\n",
       "<style scoped>\n",
       "    .dataframe tbody tr th:only-of-type {\n",
       "        vertical-align: middle;\n",
       "    }\n",
       "\n",
       "    .dataframe tbody tr th {\n",
       "        vertical-align: top;\n",
       "    }\n",
       "\n",
       "    .dataframe thead th {\n",
       "        text-align: right;\n",
       "    }\n",
       "</style>\n",
       "<table border=\"1\" class=\"dataframe\">\n",
       "  <thead>\n",
       "    <tr style=\"text-align: right;\">\n",
       "      <th></th>\n",
       "      <th>Algorithm</th>\n",
       "      <th>BoW</th>\n",
       "    </tr>\n",
       "  </thead>\n",
       "  <tbody>\n",
       "    <tr>\n",
       "      <td>0</td>\n",
       "      <td>Gaussian NB</td>\n",
       "      <td></td>\n",
       "    </tr>\n",
       "    <tr>\n",
       "      <td>1</td>\n",
       "      <td>Multinomial NB</td>\n",
       "      <td></td>\n",
       "    </tr>\n",
       "    <tr>\n",
       "      <td>2</td>\n",
       "      <td>Decision Tree</td>\n",
       "      <td></td>\n",
       "    </tr>\n",
       "    <tr>\n",
       "      <td>3</td>\n",
       "      <td>SVM</td>\n",
       "      <td></td>\n",
       "    </tr>\n",
       "    <tr>\n",
       "      <td>4</td>\n",
       "      <td>AdaBoost</td>\n",
       "      <td></td>\n",
       "    </tr>\n",
       "    <tr>\n",
       "      <td>5</td>\n",
       "      <td>ANN</td>\n",
       "      <td></td>\n",
       "    </tr>\n",
       "  </tbody>\n",
       "</table>\n",
       "</div>"
      ],
      "text/plain": [
       "        Algorithm BoW\n",
       "0     Gaussian NB    \n",
       "1  Multinomial NB    \n",
       "2   Decision Tree    \n",
       "3             SVM    \n",
       "4        AdaBoost    \n",
       "5             ANN    "
      ]
     },
     "execution_count": 28,
     "metadata": {},
     "output_type": "execute_result"
    }
   ],
   "source": [
    "# create dataframe to store results\n",
    "f1_data = {\n",
    "    'Algorithm': ['Gaussian NB', 'Multinomial NB','Decision Tree','SVM','AdaBoost','ANN'],\n",
    "    'BoW': ''\n",
    "}\n",
    "f1_df = pd.DataFrame(f1_data)\n",
    "\n",
    "jaccard_data = {\n",
    "    'Algorithm': ['Gaussian NB', 'Multinomial NB', 'Decision Tree','SVM','AdaBoost','ANN'],\n",
    "    'BoW': ''\n",
    "}\n",
    "jacc_df = pd.DataFrame(jaccard_data)\n",
    "\n",
    "acc_data = {\n",
    "    'Algorithm': ['Gaussian NB', 'Multinomial NB','Decision Tree','SVM','AdaBoost','ANN'],\n",
    "    'BoW': ''\n",
    "}\n",
    "acc_df = pd.DataFrame(acc_data)\n",
    "acc_df"
   ]
  },
  {
   "cell_type": "code",
   "execution_count": 29,
   "metadata": {},
   "outputs": [
    {
     "name": "stdout",
     "output_type": "stream",
     "text": [
      "Gaussian NB\n",
      "accuracy:  0.5852325249983473\n",
      "f1_score:  0.5621318716847321\n",
      "Jaccard_index:  0.4130840479833916\n",
      "time (sec):  272.79186511039734\n",
      "\n",
      "\n",
      "Multinomial NB\n",
      "accuracy:  0.7377434135166094\n",
      "f1_score:  0.7038215928245647\n",
      "Jaccard_index:  0.5770619060081098\n",
      "time (sec):  282.37522053718567\n",
      "\n",
      "\n",
      "Decision Tree\n",
      "accuracy:  0.657735697542484\n",
      "f1_score:  0.6389372213085271\n",
      "Jaccard_index:  0.49339469800975644\n",
      "time (sec):  173.0333297252655\n",
      "\n",
      "\n",
      "SVM\n",
      "accuracy:  0.7371561541937728\n",
      "f1_score:  0.718565266331326\n",
      "Jaccard_index:  0.587187559123094\n",
      "time (sec):  63.77345585823059\n",
      "\n",
      "\n",
      "AdaBoost\n",
      "accuracy:  0.6657573846315568\n",
      "f1_score:  0.6453542894393619\n",
      "Jaccard_index:  0.5034223140112702\n",
      "time (sec):  744.1982271671295\n",
      "\n",
      "\n",
      "ANN\n",
      "accuracy:  0.7367147072752317\n",
      "f1_score:  0.7164593631485092\n",
      "Jaccard_index:  0.5848075641734207\n",
      "time (sec):  559.2389423847198\n",
      "\n",
      "\n"
     ]
    },
    {
     "data": {
      "text/html": [
       "<div>\n",
       "<style scoped>\n",
       "    .dataframe tbody tr th:only-of-type {\n",
       "        vertical-align: middle;\n",
       "    }\n",
       "\n",
       "    .dataframe tbody tr th {\n",
       "        vertical-align: top;\n",
       "    }\n",
       "\n",
       "    .dataframe thead th {\n",
       "        text-align: right;\n",
       "    }\n",
       "</style>\n",
       "<table border=\"1\" class=\"dataframe\">\n",
       "  <thead>\n",
       "    <tr style=\"text-align: right;\">\n",
       "      <th></th>\n",
       "      <th>Algorithm</th>\n",
       "      <th>BoW</th>\n",
       "      <th>time</th>\n",
       "    </tr>\n",
       "  </thead>\n",
       "  <tbody>\n",
       "    <tr>\n",
       "      <td>0</td>\n",
       "      <td>Gaussian NB</td>\n",
       "      <td>0.585233</td>\n",
       "      <td>272.791865</td>\n",
       "    </tr>\n",
       "    <tr>\n",
       "      <td>1</td>\n",
       "      <td>Multinomial NB</td>\n",
       "      <td>0.737743</td>\n",
       "      <td>282.375221</td>\n",
       "    </tr>\n",
       "    <tr>\n",
       "      <td>2</td>\n",
       "      <td>Decision Tree</td>\n",
       "      <td>0.657736</td>\n",
       "      <td>173.033330</td>\n",
       "    </tr>\n",
       "    <tr>\n",
       "      <td>3</td>\n",
       "      <td>SVM</td>\n",
       "      <td>0.737156</td>\n",
       "      <td>63.773456</td>\n",
       "    </tr>\n",
       "    <tr>\n",
       "      <td>4</td>\n",
       "      <td>AdaBoost</td>\n",
       "      <td>0.665757</td>\n",
       "      <td>744.198227</td>\n",
       "    </tr>\n",
       "    <tr>\n",
       "      <td>5</td>\n",
       "      <td>ANN</td>\n",
       "      <td>0.736715</td>\n",
       "      <td>559.238942</td>\n",
       "    </tr>\n",
       "  </tbody>\n",
       "</table>\n",
       "</div>"
      ],
      "text/plain": [
       "        Algorithm       BoW        time\n",
       "0     Gaussian NB  0.585233  272.791865\n",
       "1  Multinomial NB  0.737743  282.375221\n",
       "2   Decision Tree  0.657736  173.033330\n",
       "3             SVM  0.737156   63.773456\n",
       "4        AdaBoost  0.665757  744.198227\n",
       "5             ANN  0.736715  559.238942"
      ]
     },
     "execution_count": 29,
     "metadata": {},
     "output_type": "execute_result"
    }
   ],
   "source": [
    "models = [GaussianNB(), MultinomialNB(), DecisionTreeClassifier(), LinearSVC(), \n",
    "          AdaBoostClassifier(base_estimator=DecisionTreeClassifier(), n_estimators=5),\n",
    "         MLPClassifier(hidden_layer_sizes=(10,))]\n",
    "\n",
    "names = [\"Gaussian NB\", \"Multinomial NB\", \"Decision Tree\", \"SVM\", \"AdaBoost\", \"ANN\"]\n",
    "\n",
    "jacc_scores = []\n",
    "acc_scores = []\n",
    "f1_scores = []\n",
    "exec_times = []\n",
    "\n",
    "for model, name in zip(models, names):\n",
    "    print(name)\n",
    "    start = time.time()\n",
    "    scoring = {\n",
    "        'acc': 'accuracy',\n",
    "        'f1_mac': 'f1_macro',\n",
    "        'jacc_mac': 'jaccard_macro'\n",
    "    }\n",
    "    scores = cross_validate(model, X, y, cv=10, n_jobs=4, scoring=scoring)\n",
    "    training_time = (time.time() - start)\n",
    "    print(\"accuracy: \", scores['test_acc'].mean())\n",
    "    print(\"f1_score: \", scores['test_f1_mac'].mean())\n",
    "    print(\"Jaccard_index: \", scores['test_jacc_mac'].mean())\n",
    "    print(\"time (sec): \", training_time)\n",
    "    print(\"\\n\")\n",
    "    \n",
    "    jacc_scores.append(scores['test_jacc_mac'].mean())\n",
    "    acc_scores.append(scores['test_acc'].mean())\n",
    "    f1_scores.append(scores['test_f1_mac'].mean())\n",
    "    exec_times.append(training_time)\n",
    "    \n",
    "acc_df['BoW'] = acc_scores\n",
    "jacc_df['BoW'] = jacc_scores\n",
    "f1_df['BoW'] = f1_scores\n",
    "acc_df['time'] = exec_times\n",
    "acc_df"
   ]
  },
  {
   "cell_type": "code",
   "execution_count": 30,
   "metadata": {},
   "outputs": [],
   "source": [
    "# save the results\n",
    "acc_df.to_csv(\"accuracy.csv\", index=False)\n",
    "f1_df.to_csv(\"f1_score.csv\", index=False)\n",
    "jacc_df.to_csv(\"jacc_score.csv\", index=False)"
   ]
  },
  {
   "cell_type": "code",
   "execution_count": 31,
   "metadata": {},
   "outputs": [
    {
     "name": "stdout",
     "output_type": "stream",
     "text": [
      "X.shape:  (13586, 5000)\n",
      "Execution time (sec):  13.650284767150879\n"
     ]
    }
   ],
   "source": [
    "start = time.time()\n",
    "vectorizer = CountVectorizer(min_df=5, max_features=5000, ngram_range=(2,2))\n",
    "X = vectorizer.fit_transform(input_data)\n",
    "\n",
    "X = X.toarray()\n",
    "print(\"X.shape: \",X.shape)\n",
    "\n",
    "end = time.time()\n",
    "print(\"Execution time (sec): \",(end - start))"
   ]
  },
  {
   "cell_type": "code",
   "execution_count": 32,
   "metadata": {},
   "outputs": [
    {
     "name": "stdout",
     "output_type": "stream",
     "text": [
      "Gaussian NB\n",
      "accuracy:  0.5833930454364673\n",
      "f1_score:  0.5621651556732388\n",
      "Jaccard_index:  0.4068105548950894\n",
      "time (sec):  29.256702184677124\n",
      "\n",
      "\n",
      "Multinomial NB\n",
      "accuracy:  0.6374178145803735\n",
      "f1_score:  0.6170933752131809\n",
      "Jaccard_index:  0.4707424107547659\n",
      "time (sec):  118.23734021186829\n",
      "\n",
      "\n",
      "Decision Tree\n",
      "accuracy:  0.590826822980165\n",
      "f1_score:  0.5787776354705647\n",
      "Jaccard_index:  0.4305232441708373\n",
      "time (sec):  383.3654010295868\n",
      "\n",
      "\n",
      "SVM\n",
      "accuracy:  0.6322652344431547\n",
      "f1_score:  0.6189001484588367\n",
      "Jaccard_index:  0.47175795478690324\n",
      "time (sec):  36.95018434524536\n",
      "\n",
      "\n",
      "AdaBoost\n",
      "accuracy:  0.5791974303205272\n",
      "f1_score:  0.5659581642731262\n",
      "Jaccard_index:  0.41918704137092505\n",
      "time (sec):  736.5310423374176\n",
      "\n",
      "\n",
      "ANN\n",
      "accuracy:  0.6151167528753382\n",
      "f1_score:  0.601077031643569\n",
      "Jaccard_index:  0.4530523549573748\n",
      "time (sec):  777.6779088973999\n",
      "\n",
      "\n"
     ]
    },
    {
     "data": {
      "text/html": [
       "<div>\n",
       "<style scoped>\n",
       "    .dataframe tbody tr th:only-of-type {\n",
       "        vertical-align: middle;\n",
       "    }\n",
       "\n",
       "    .dataframe tbody tr th {\n",
       "        vertical-align: top;\n",
       "    }\n",
       "\n",
       "    .dataframe thead th {\n",
       "        text-align: right;\n",
       "    }\n",
       "</style>\n",
       "<table border=\"1\" class=\"dataframe\">\n",
       "  <thead>\n",
       "    <tr style=\"text-align: right;\">\n",
       "      <th></th>\n",
       "      <th>Algorithm</th>\n",
       "      <th>BoW</th>\n",
       "      <th>time</th>\n",
       "      <th>BoWBi</th>\n",
       "      <th>BoWBi_time</th>\n",
       "    </tr>\n",
       "  </thead>\n",
       "  <tbody>\n",
       "    <tr>\n",
       "      <td>0</td>\n",
       "      <td>Gaussian NB</td>\n",
       "      <td>0.585233</td>\n",
       "      <td>272.791865</td>\n",
       "      <td>0.583393</td>\n",
       "      <td>29.256702</td>\n",
       "    </tr>\n",
       "    <tr>\n",
       "      <td>1</td>\n",
       "      <td>Multinomial NB</td>\n",
       "      <td>0.737743</td>\n",
       "      <td>282.375221</td>\n",
       "      <td>0.637418</td>\n",
       "      <td>118.237340</td>\n",
       "    </tr>\n",
       "    <tr>\n",
       "      <td>2</td>\n",
       "      <td>Decision Tree</td>\n",
       "      <td>0.657736</td>\n",
       "      <td>173.033330</td>\n",
       "      <td>0.590827</td>\n",
       "      <td>383.365401</td>\n",
       "    </tr>\n",
       "    <tr>\n",
       "      <td>3</td>\n",
       "      <td>SVM</td>\n",
       "      <td>0.737156</td>\n",
       "      <td>63.773456</td>\n",
       "      <td>0.632265</td>\n",
       "      <td>36.950184</td>\n",
       "    </tr>\n",
       "    <tr>\n",
       "      <td>4</td>\n",
       "      <td>AdaBoost</td>\n",
       "      <td>0.665757</td>\n",
       "      <td>744.198227</td>\n",
       "      <td>0.579197</td>\n",
       "      <td>736.531042</td>\n",
       "    </tr>\n",
       "    <tr>\n",
       "      <td>5</td>\n",
       "      <td>ANN</td>\n",
       "      <td>0.736715</td>\n",
       "      <td>559.238942</td>\n",
       "      <td>0.615117</td>\n",
       "      <td>777.677909</td>\n",
       "    </tr>\n",
       "  </tbody>\n",
       "</table>\n",
       "</div>"
      ],
      "text/plain": [
       "        Algorithm       BoW        time     BoWBi  BoWBi_time\n",
       "0     Gaussian NB  0.585233  272.791865  0.583393   29.256702\n",
       "1  Multinomial NB  0.737743  282.375221  0.637418  118.237340\n",
       "2   Decision Tree  0.657736  173.033330  0.590827  383.365401\n",
       "3             SVM  0.737156   63.773456  0.632265   36.950184\n",
       "4        AdaBoost  0.665757  744.198227  0.579197  736.531042\n",
       "5             ANN  0.736715  559.238942  0.615117  777.677909"
      ]
     },
     "execution_count": 32,
     "metadata": {},
     "output_type": "execute_result"
    }
   ],
   "source": [
    "models = [GaussianNB(), MultinomialNB(), DecisionTreeClassifier(), LinearSVC(), \n",
    "          AdaBoostClassifier(base_estimator=DecisionTreeClassifier(), n_estimators=5),\n",
    "         MLPClassifier(hidden_layer_sizes=(10,))]\n",
    "\n",
    "names = [\"Gaussian NB\", \"Multinomial NB\", \"Decision Tree\", \"SVM\", \"AdaBoost\", \"ANN\"]\n",
    "\n",
    "jacc_scores = []\n",
    "acc_scores = []\n",
    "f1_scores = []\n",
    "exec_times = []\n",
    "\n",
    "for model, name in zip(models, names):\n",
    "    print(name)\n",
    "    start = time.time()\n",
    "    scoring = {\n",
    "        'acc': 'accuracy',\n",
    "        'f1_mac': 'f1_macro',\n",
    "        'jacc_mac': 'jaccard_macro'\n",
    "    }\n",
    "    scores = cross_validate(model, X, y, cv=10, n_jobs=4, scoring=scoring)\n",
    "    training_time = (time.time() - start)\n",
    "    print(\"accuracy: \", scores['test_acc'].mean())\n",
    "    print(\"f1_score: \", scores['test_f1_mac'].mean())\n",
    "    print(\"Jaccard_index: \", scores['test_jacc_mac'].mean())\n",
    "    print(\"time (sec): \", training_time)\n",
    "    print(\"\\n\")\n",
    "    \n",
    "    jacc_scores.append(scores['test_jacc_mac'].mean())\n",
    "    acc_scores.append(scores['test_acc'].mean())\n",
    "    f1_scores.append(scores['test_f1_mac'].mean())\n",
    "    exec_times.append(training_time)\n",
    "    \n",
    "acc_df['BoWBi'] = acc_scores\n",
    "jacc_df['BoWBi'] = jacc_scores\n",
    "f1_df['BoWBi'] = f1_scores\n",
    "acc_df['BoWBi_time'] = exec_times\n",
    "acc_df"
   ]
  },
  {
   "cell_type": "code",
   "execution_count": 33,
   "metadata": {},
   "outputs": [],
   "source": [
    "# save the results\n",
    "acc_df.to_csv(\"accuracy.csv\", index=False)\n",
    "f1_df.to_csv(\"f1_score.csv\", index=False)\n",
    "jacc_df.to_csv(\"jacc_score.csv\", index=False)"
   ]
  },
  {
   "cell_type": "code",
   "execution_count": 34,
   "metadata": {},
   "outputs": [
    {
     "name": "stdout",
     "output_type": "stream",
     "text": [
      "X.shape:  (13586, 5000)\n",
      "Execution time (sec):  4.879719495773315\n"
     ]
    }
   ],
   "source": [
    "start = time.time()\n",
    "vectorizer = TfidfVectorizer(min_df=5, max_features=5000)\n",
    "X = vectorizer.fit_transform(input_data)\n",
    "\n",
    "X = X.toarray()\n",
    "print(\"X.shape: \",X.shape)\n",
    "\n",
    "end = time.time()\n",
    "print(\"Execution time (sec): \",(end - start))"
   ]
  },
  {
   "cell_type": "code",
   "execution_count": 35,
   "metadata": {},
   "outputs": [
    {
     "name": "stdout",
     "output_type": "stream",
     "text": [
      "Gaussian NB\n",
      "accuracy:  0.6093018127120674\n",
      "f1_score:  0.5877402363957523\n",
      "Jaccard_index:  0.44084640698807825\n",
      "time (sec):  73.84895420074463\n",
      "\n",
      "\n",
      "Multinomial NB\n",
      "accuracy:  0.7368567808999297\n",
      "f1_score:  0.6967070564788325\n",
      "Jaccard_index:  0.5701299709091912\n",
      "time (sec):  7.48159122467041\n",
      "\n",
      "\n",
      "Decision Tree\n",
      "accuracy:  0.6461798884001384\n",
      "f1_score:  0.6305718598295987\n",
      "Jaccard_index:  0.48501956205184377\n",
      "time (sec):  176.99774599075317\n",
      "\n",
      "\n",
      "SVM\n",
      "accuracy:  0.7947884663526091\n",
      "f1_score:  0.7771822256420796\n",
      "Jaccard_index:  0.6613918628186176\n",
      "time (sec):  13.632520914077759\n",
      "\n",
      "\n",
      "AdaBoost\n",
      "accuracy:  0.6581030190916175\n",
      "f1_score:  0.6384217127299128\n",
      "Jaccard_index:  0.4969775044000473\n",
      "time (sec):  744.375152349472\n",
      "\n",
      "\n",
      "ANN\n",
      "accuracy:  0.749522465730563\n",
      "f1_score:  0.7306690801729734\n",
      "Jaccard_index:  0.6033280521106238\n",
      "time (sec):  801.2466208934784\n",
      "\n",
      "\n"
     ]
    },
    {
     "data": {
      "text/html": [
       "<div>\n",
       "<style scoped>\n",
       "    .dataframe tbody tr th:only-of-type {\n",
       "        vertical-align: middle;\n",
       "    }\n",
       "\n",
       "    .dataframe tbody tr th {\n",
       "        vertical-align: top;\n",
       "    }\n",
       "\n",
       "    .dataframe thead th {\n",
       "        text-align: right;\n",
       "    }\n",
       "</style>\n",
       "<table border=\"1\" class=\"dataframe\">\n",
       "  <thead>\n",
       "    <tr style=\"text-align: right;\">\n",
       "      <th></th>\n",
       "      <th>Algorithm</th>\n",
       "      <th>BoW</th>\n",
       "      <th>time</th>\n",
       "      <th>BoWBi</th>\n",
       "      <th>BoWBi_time</th>\n",
       "      <th>TfIdf</th>\n",
       "      <th>TfIdf_time</th>\n",
       "    </tr>\n",
       "  </thead>\n",
       "  <tbody>\n",
       "    <tr>\n",
       "      <td>0</td>\n",
       "      <td>Gaussian NB</td>\n",
       "      <td>0.585233</td>\n",
       "      <td>272.791865</td>\n",
       "      <td>0.583393</td>\n",
       "      <td>29.256702</td>\n",
       "      <td>0.609302</td>\n",
       "      <td>73.848954</td>\n",
       "    </tr>\n",
       "    <tr>\n",
       "      <td>1</td>\n",
       "      <td>Multinomial NB</td>\n",
       "      <td>0.737743</td>\n",
       "      <td>282.375221</td>\n",
       "      <td>0.637418</td>\n",
       "      <td>118.237340</td>\n",
       "      <td>0.736857</td>\n",
       "      <td>7.481591</td>\n",
       "    </tr>\n",
       "    <tr>\n",
       "      <td>2</td>\n",
       "      <td>Decision Tree</td>\n",
       "      <td>0.657736</td>\n",
       "      <td>173.033330</td>\n",
       "      <td>0.590827</td>\n",
       "      <td>383.365401</td>\n",
       "      <td>0.646180</td>\n",
       "      <td>176.997746</td>\n",
       "    </tr>\n",
       "    <tr>\n",
       "      <td>3</td>\n",
       "      <td>SVM</td>\n",
       "      <td>0.737156</td>\n",
       "      <td>63.773456</td>\n",
       "      <td>0.632265</td>\n",
       "      <td>36.950184</td>\n",
       "      <td>0.794788</td>\n",
       "      <td>13.632521</td>\n",
       "    </tr>\n",
       "    <tr>\n",
       "      <td>4</td>\n",
       "      <td>AdaBoost</td>\n",
       "      <td>0.665757</td>\n",
       "      <td>744.198227</td>\n",
       "      <td>0.579197</td>\n",
       "      <td>736.531042</td>\n",
       "      <td>0.658103</td>\n",
       "      <td>744.375152</td>\n",
       "    </tr>\n",
       "    <tr>\n",
       "      <td>5</td>\n",
       "      <td>ANN</td>\n",
       "      <td>0.736715</td>\n",
       "      <td>559.238942</td>\n",
       "      <td>0.615117</td>\n",
       "      <td>777.677909</td>\n",
       "      <td>0.749522</td>\n",
       "      <td>801.246621</td>\n",
       "    </tr>\n",
       "  </tbody>\n",
       "</table>\n",
       "</div>"
      ],
      "text/plain": [
       "        Algorithm       BoW        time     BoWBi  BoWBi_time     TfIdf  \\\n",
       "0     Gaussian NB  0.585233  272.791865  0.583393   29.256702  0.609302   \n",
       "1  Multinomial NB  0.737743  282.375221  0.637418  118.237340  0.736857   \n",
       "2   Decision Tree  0.657736  173.033330  0.590827  383.365401  0.646180   \n",
       "3             SVM  0.737156   63.773456  0.632265   36.950184  0.794788   \n",
       "4        AdaBoost  0.665757  744.198227  0.579197  736.531042  0.658103   \n",
       "5             ANN  0.736715  559.238942  0.615117  777.677909  0.749522   \n",
       "\n",
       "   TfIdf_time  \n",
       "0   73.848954  \n",
       "1    7.481591  \n",
       "2  176.997746  \n",
       "3   13.632521  \n",
       "4  744.375152  \n",
       "5  801.246621  "
      ]
     },
     "execution_count": 35,
     "metadata": {},
     "output_type": "execute_result"
    }
   ],
   "source": [
    "models = [GaussianNB(), MultinomialNB(), DecisionTreeClassifier(), LinearSVC(), \n",
    "          AdaBoostClassifier(base_estimator=DecisionTreeClassifier(), n_estimators=5),\n",
    "         MLPClassifier(hidden_layer_sizes=(10,))]\n",
    "\n",
    "names = [\"Gaussian NB\", \"Multinomial NB\", \"Decision Tree\", \"SVM\", \"AdaBoost\", \"ANN\"]\n",
    "\n",
    "jacc_scores = []\n",
    "acc_scores = []\n",
    "f1_scores = []\n",
    "exec_times = []\n",
    "\n",
    "for model, name in zip(models, names):\n",
    "    print(name)\n",
    "    start = time.time()\n",
    "    scoring = {\n",
    "        'acc': 'accuracy',\n",
    "        'f1_mac': 'f1_macro',\n",
    "        'jacc_mac': 'jaccard_macro'\n",
    "    }\n",
    "    scores = cross_validate(model, X, y, cv=10, n_jobs=4, scoring=scoring)\n",
    "    training_time = (time.time() - start)\n",
    "    print(\"accuracy: \", scores['test_acc'].mean())\n",
    "    print(\"f1_score: \", scores['test_f1_mac'].mean())\n",
    "    print(\"Jaccard_index: \", scores['test_jacc_mac'].mean())\n",
    "    print(\"time (sec): \", training_time)\n",
    "    print(\"\\n\")\n",
    "    \n",
    "    jacc_scores.append(scores['test_jacc_mac'].mean())\n",
    "    acc_scores.append(scores['test_acc'].mean())\n",
    "    f1_scores.append(scores['test_f1_mac'].mean())\n",
    "    exec_times.append(training_time)\n",
    "    \n",
    "acc_df['TfIdf'] = acc_scores\n",
    "jacc_df['TfIdf'] = jacc_scores\n",
    "f1_df['TfIdf'] = f1_scores\n",
    "acc_df['TfIdf_time'] = exec_times\n",
    "acc_df"
   ]
  },
  {
   "cell_type": "code",
   "execution_count": 36,
   "metadata": {},
   "outputs": [],
   "source": [
    "# save the results\n",
    "acc_df.to_csv(\"accuracy.csv\", index=False)\n",
    "f1_df.to_csv(\"f1_score.csv\", index=False)\n",
    "jacc_df.to_csv(\"jacc_score.csv\", index=False)"
   ]
  },
  {
   "cell_type": "code",
   "execution_count": 37,
   "metadata": {},
   "outputs": [
    {
     "data": {
      "text/html": [
       "<div>\n",
       "<style scoped>\n",
       "    .dataframe tbody tr th:only-of-type {\n",
       "        vertical-align: middle;\n",
       "    }\n",
       "\n",
       "    .dataframe tbody tr th {\n",
       "        vertical-align: top;\n",
       "    }\n",
       "\n",
       "    .dataframe thead th {\n",
       "        text-align: right;\n",
       "    }\n",
       "</style>\n",
       "<table border=\"1\" class=\"dataframe\">\n",
       "  <thead>\n",
       "    <tr style=\"text-align: right;\">\n",
       "      <th></th>\n",
       "      <th>Algorithm</th>\n",
       "      <th>BoW</th>\n",
       "      <th>BoWBi</th>\n",
       "      <th>TfIdf</th>\n",
       "    </tr>\n",
       "  </thead>\n",
       "  <tbody>\n",
       "    <tr>\n",
       "      <td>0</td>\n",
       "      <td>Gaussian NB</td>\n",
       "      <td>0.413084</td>\n",
       "      <td>0.406811</td>\n",
       "      <td>0.440846</td>\n",
       "    </tr>\n",
       "    <tr>\n",
       "      <td>1</td>\n",
       "      <td>Multinomial NB</td>\n",
       "      <td>0.577062</td>\n",
       "      <td>0.470742</td>\n",
       "      <td>0.570130</td>\n",
       "    </tr>\n",
       "    <tr>\n",
       "      <td>2</td>\n",
       "      <td>Decision Tree</td>\n",
       "      <td>0.493395</td>\n",
       "      <td>0.430523</td>\n",
       "      <td>0.485020</td>\n",
       "    </tr>\n",
       "    <tr>\n",
       "      <td>3</td>\n",
       "      <td>SVM</td>\n",
       "      <td>0.587188</td>\n",
       "      <td>0.471758</td>\n",
       "      <td>0.661392</td>\n",
       "    </tr>\n",
       "    <tr>\n",
       "      <td>4</td>\n",
       "      <td>AdaBoost</td>\n",
       "      <td>0.503422</td>\n",
       "      <td>0.419187</td>\n",
       "      <td>0.496978</td>\n",
       "    </tr>\n",
       "    <tr>\n",
       "      <td>5</td>\n",
       "      <td>ANN</td>\n",
       "      <td>0.584808</td>\n",
       "      <td>0.453052</td>\n",
       "      <td>0.603328</td>\n",
       "    </tr>\n",
       "  </tbody>\n",
       "</table>\n",
       "</div>"
      ],
      "text/plain": [
       "        Algorithm       BoW     BoWBi     TfIdf\n",
       "0     Gaussian NB  0.413084  0.406811  0.440846\n",
       "1  Multinomial NB  0.577062  0.470742  0.570130\n",
       "2   Decision Tree  0.493395  0.430523  0.485020\n",
       "3             SVM  0.587188  0.471758  0.661392\n",
       "4        AdaBoost  0.503422  0.419187  0.496978\n",
       "5             ANN  0.584808  0.453052  0.603328"
      ]
     },
     "execution_count": 37,
     "metadata": {},
     "output_type": "execute_result"
    }
   ],
   "source": [
    "jacc_df"
   ]
  },
  {
   "cell_type": "code",
   "execution_count": null,
   "metadata": {},
   "outputs": [],
   "source": []
  },
  {
   "cell_type": "code",
   "execution_count": null,
   "metadata": {},
   "outputs": [],
   "source": []
  }
 ],
 "metadata": {
  "kernelspec": {
   "display_name": "Python 3",
   "language": "python",
   "name": "python3"
  },
  "language_info": {
   "codemirror_mode": {
    "name": "ipython",
    "version": 3
   },
   "file_extension": ".py",
   "mimetype": "text/x-python",
   "name": "python",
   "nbconvert_exporter": "python",
   "pygments_lexer": "ipython3",
   "version": "3.8.5"
  }
 },
 "nbformat": 4,
 "nbformat_minor": 5
}
